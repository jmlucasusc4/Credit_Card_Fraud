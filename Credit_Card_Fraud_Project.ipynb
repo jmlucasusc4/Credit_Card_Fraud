{
  "cells": [
    {
      "cell_type": "markdown",
      "metadata": {
        "id": "view-in-github",
        "colab_type": "text"
      },
      "source": [
        "<a href=\"https://colab.research.google.com/github/jmlucasusc4/Credit_Card_Fraud/blob/main/Credit_Card_Fraud_Project.ipynb\" target=\"_parent\"><img src=\"https://colab.research.google.com/assets/colab-badge.svg\" alt=\"Open In Colab\"/></a>"
      ]
    },
    {
      "cell_type": "markdown",
      "metadata": {
        "id": "6QO40NzJuA-F"
      },
      "source": [
        "### Load the Libraries\n",
        "\n"
      ]
    },
    {
      "cell_type": "code",
      "execution_count": null,
      "metadata": {
        "id": "6FOFHkaHtsQg"
      },
      "outputs": [],
      "source": [
        "import pandas as pd\n",
        "import pandas as pd\n",
        "import numpy as np\n",
        "import seaborn as sns\n",
        "import matplotlib.pyplot as plt\n",
        "\n",
        "# configure pandas display settings\n",
        "pd.options.display.max_columns = None\n",
        "pd.options.display.max_rows = None"
      ]
    },
    {
      "cell_type": "markdown",
      "metadata": {
        "id": "-P56roONuLr6"
      },
      "source": [
        "###Load Dataset"
      ]
    },
    {
      "cell_type": "code",
      "execution_count": null,
      "metadata": {
        "id": "-f-TKBP9uIHC"
      },
      "outputs": [],
      "source": [
        "dataset = pd.read_csv('/content/creditcard.csv')"
      ]
    },
    {
      "cell_type": "markdown",
      "metadata": {
        "id": "Ez1Pzs4L4Ccw"
      },
      "source": [
        "###Preliminary Data Exploration"
      ]
    },
    {
      "cell_type": "code",
      "execution_count": null,
      "metadata": {
        "colab": {
          "base_uri": "https://localhost:8080/"
        },
        "id": "qN1NR-k2u8Jp",
        "outputId": "a88664bf-bf24-464b-9ee2-91cde18d003f"
      },
      "outputs": [
        {
          "output_type": "execute_result",
          "data": {
            "text/plain": [
              "Index(['Time', 'V1', 'V2', 'V3', 'V4', 'V5', 'V6', 'V7', 'V8', 'V9', 'V10',\n",
              "       'V11', 'V12', 'V13', 'V14', 'V15', 'V16', 'V17', 'V18', 'V19', 'V20',\n",
              "       'V21', 'V22', 'V23', 'V24', 'V25', 'V26', 'V27', 'V28', 'Amount',\n",
              "       'Class'],\n",
              "      dtype='object')"
            ]
          },
          "metadata": {},
          "execution_count": 5
        }
      ],
      "source": [
        "dataset.columns"
      ]
    },
    {
      "cell_type": "code",
      "execution_count": null,
      "metadata": {
        "colab": {
          "base_uri": "https://localhost:8080/",
          "height": 270
        },
        "id": "uVFmBGT44JMT",
        "outputId": "70e96664-4b30-47af-f39e-849a9924e795"
      },
      "outputs": [
        {
          "output_type": "execute_result",
          "data": {
            "text/html": [
              "\n",
              "  <div id=\"df-579e3c55-3be6-4f05-a313-4008b9a2ce77\">\n",
              "    <div class=\"colab-df-container\">\n",
              "      <div>\n",
              "<style scoped>\n",
              "    .dataframe tbody tr th:only-of-type {\n",
              "        vertical-align: middle;\n",
              "    }\n",
              "\n",
              "    .dataframe tbody tr th {\n",
              "        vertical-align: top;\n",
              "    }\n",
              "\n",
              "    .dataframe thead th {\n",
              "        text-align: right;\n",
              "    }\n",
              "</style>\n",
              "<table border=\"1\" class=\"dataframe\">\n",
              "  <thead>\n",
              "    <tr style=\"text-align: right;\">\n",
              "      <th></th>\n",
              "      <th>Time</th>\n",
              "      <th>V1</th>\n",
              "      <th>V2</th>\n",
              "      <th>V3</th>\n",
              "      <th>V4</th>\n",
              "      <th>V5</th>\n",
              "      <th>V6</th>\n",
              "      <th>V7</th>\n",
              "      <th>V8</th>\n",
              "      <th>V9</th>\n",
              "      <th>V10</th>\n",
              "      <th>V11</th>\n",
              "      <th>V12</th>\n",
              "      <th>V13</th>\n",
              "      <th>V14</th>\n",
              "      <th>V15</th>\n",
              "      <th>V16</th>\n",
              "      <th>V17</th>\n",
              "      <th>V18</th>\n",
              "      <th>V19</th>\n",
              "      <th>V20</th>\n",
              "      <th>V21</th>\n",
              "      <th>V22</th>\n",
              "      <th>V23</th>\n",
              "      <th>V24</th>\n",
              "      <th>V25</th>\n",
              "      <th>V26</th>\n",
              "      <th>V27</th>\n",
              "      <th>V28</th>\n",
              "      <th>Amount</th>\n",
              "      <th>Class</th>\n",
              "    </tr>\n",
              "  </thead>\n",
              "  <tbody>\n",
              "    <tr>\n",
              "      <th>0</th>\n",
              "      <td>0.0</td>\n",
              "      <td>-1.359807</td>\n",
              "      <td>-0.072781</td>\n",
              "      <td>2.536347</td>\n",
              "      <td>1.378155</td>\n",
              "      <td>-0.338321</td>\n",
              "      <td>0.462388</td>\n",
              "      <td>0.239599</td>\n",
              "      <td>0.098698</td>\n",
              "      <td>0.363787</td>\n",
              "      <td>0.090794</td>\n",
              "      <td>-0.551600</td>\n",
              "      <td>-0.617801</td>\n",
              "      <td>-0.991390</td>\n",
              "      <td>-0.311169</td>\n",
              "      <td>1.468177</td>\n",
              "      <td>-0.470401</td>\n",
              "      <td>0.207971</td>\n",
              "      <td>0.025791</td>\n",
              "      <td>0.403993</td>\n",
              "      <td>0.251412</td>\n",
              "      <td>-0.018307</td>\n",
              "      <td>0.277838</td>\n",
              "      <td>-0.110474</td>\n",
              "      <td>0.066928</td>\n",
              "      <td>0.128539</td>\n",
              "      <td>-0.189115</td>\n",
              "      <td>0.133558</td>\n",
              "      <td>-0.021053</td>\n",
              "      <td>149.62</td>\n",
              "      <td>0</td>\n",
              "    </tr>\n",
              "    <tr>\n",
              "      <th>1</th>\n",
              "      <td>0.0</td>\n",
              "      <td>1.191857</td>\n",
              "      <td>0.266151</td>\n",
              "      <td>0.166480</td>\n",
              "      <td>0.448154</td>\n",
              "      <td>0.060018</td>\n",
              "      <td>-0.082361</td>\n",
              "      <td>-0.078803</td>\n",
              "      <td>0.085102</td>\n",
              "      <td>-0.255425</td>\n",
              "      <td>-0.166974</td>\n",
              "      <td>1.612727</td>\n",
              "      <td>1.065235</td>\n",
              "      <td>0.489095</td>\n",
              "      <td>-0.143772</td>\n",
              "      <td>0.635558</td>\n",
              "      <td>0.463917</td>\n",
              "      <td>-0.114805</td>\n",
              "      <td>-0.183361</td>\n",
              "      <td>-0.145783</td>\n",
              "      <td>-0.069083</td>\n",
              "      <td>-0.225775</td>\n",
              "      <td>-0.638672</td>\n",
              "      <td>0.101288</td>\n",
              "      <td>-0.339846</td>\n",
              "      <td>0.167170</td>\n",
              "      <td>0.125895</td>\n",
              "      <td>-0.008983</td>\n",
              "      <td>0.014724</td>\n",
              "      <td>2.69</td>\n",
              "      <td>0</td>\n",
              "    </tr>\n",
              "    <tr>\n",
              "      <th>2</th>\n",
              "      <td>1.0</td>\n",
              "      <td>-1.358354</td>\n",
              "      <td>-1.340163</td>\n",
              "      <td>1.773209</td>\n",
              "      <td>0.379780</td>\n",
              "      <td>-0.503198</td>\n",
              "      <td>1.800499</td>\n",
              "      <td>0.791461</td>\n",
              "      <td>0.247676</td>\n",
              "      <td>-1.514654</td>\n",
              "      <td>0.207643</td>\n",
              "      <td>0.624501</td>\n",
              "      <td>0.066084</td>\n",
              "      <td>0.717293</td>\n",
              "      <td>-0.165946</td>\n",
              "      <td>2.345865</td>\n",
              "      <td>-2.890083</td>\n",
              "      <td>1.109969</td>\n",
              "      <td>-0.121359</td>\n",
              "      <td>-2.261857</td>\n",
              "      <td>0.524980</td>\n",
              "      <td>0.247998</td>\n",
              "      <td>0.771679</td>\n",
              "      <td>0.909412</td>\n",
              "      <td>-0.689281</td>\n",
              "      <td>-0.327642</td>\n",
              "      <td>-0.139097</td>\n",
              "      <td>-0.055353</td>\n",
              "      <td>-0.059752</td>\n",
              "      <td>378.66</td>\n",
              "      <td>0</td>\n",
              "    </tr>\n",
              "    <tr>\n",
              "      <th>3</th>\n",
              "      <td>1.0</td>\n",
              "      <td>-0.966272</td>\n",
              "      <td>-0.185226</td>\n",
              "      <td>1.792993</td>\n",
              "      <td>-0.863291</td>\n",
              "      <td>-0.010309</td>\n",
              "      <td>1.247203</td>\n",
              "      <td>0.237609</td>\n",
              "      <td>0.377436</td>\n",
              "      <td>-1.387024</td>\n",
              "      <td>-0.054952</td>\n",
              "      <td>-0.226487</td>\n",
              "      <td>0.178228</td>\n",
              "      <td>0.507757</td>\n",
              "      <td>-0.287924</td>\n",
              "      <td>-0.631418</td>\n",
              "      <td>-1.059647</td>\n",
              "      <td>-0.684093</td>\n",
              "      <td>1.965775</td>\n",
              "      <td>-1.232622</td>\n",
              "      <td>-0.208038</td>\n",
              "      <td>-0.108300</td>\n",
              "      <td>0.005274</td>\n",
              "      <td>-0.190321</td>\n",
              "      <td>-1.175575</td>\n",
              "      <td>0.647376</td>\n",
              "      <td>-0.221929</td>\n",
              "      <td>0.062723</td>\n",
              "      <td>0.061458</td>\n",
              "      <td>123.50</td>\n",
              "      <td>0</td>\n",
              "    </tr>\n",
              "    <tr>\n",
              "      <th>4</th>\n",
              "      <td>2.0</td>\n",
              "      <td>-1.158233</td>\n",
              "      <td>0.877737</td>\n",
              "      <td>1.548718</td>\n",
              "      <td>0.403034</td>\n",
              "      <td>-0.407193</td>\n",
              "      <td>0.095921</td>\n",
              "      <td>0.592941</td>\n",
              "      <td>-0.270533</td>\n",
              "      <td>0.817739</td>\n",
              "      <td>0.753074</td>\n",
              "      <td>-0.822843</td>\n",
              "      <td>0.538196</td>\n",
              "      <td>1.345852</td>\n",
              "      <td>-1.119670</td>\n",
              "      <td>0.175121</td>\n",
              "      <td>-0.451449</td>\n",
              "      <td>-0.237033</td>\n",
              "      <td>-0.038195</td>\n",
              "      <td>0.803487</td>\n",
              "      <td>0.408542</td>\n",
              "      <td>-0.009431</td>\n",
              "      <td>0.798278</td>\n",
              "      <td>-0.137458</td>\n",
              "      <td>0.141267</td>\n",
              "      <td>-0.206010</td>\n",
              "      <td>0.502292</td>\n",
              "      <td>0.219422</td>\n",
              "      <td>0.215153</td>\n",
              "      <td>69.99</td>\n",
              "      <td>0</td>\n",
              "    </tr>\n",
              "  </tbody>\n",
              "</table>\n",
              "</div>\n",
              "      <button class=\"colab-df-convert\" onclick=\"convertToInteractive('df-579e3c55-3be6-4f05-a313-4008b9a2ce77')\"\n",
              "              title=\"Convert this dataframe to an interactive table.\"\n",
              "              style=\"display:none;\">\n",
              "        \n",
              "  <svg xmlns=\"http://www.w3.org/2000/svg\" height=\"24px\"viewBox=\"0 0 24 24\"\n",
              "       width=\"24px\">\n",
              "    <path d=\"M0 0h24v24H0V0z\" fill=\"none\"/>\n",
              "    <path d=\"M18.56 5.44l.94 2.06.94-2.06 2.06-.94-2.06-.94-.94-2.06-.94 2.06-2.06.94zm-11 1L8.5 8.5l.94-2.06 2.06-.94-2.06-.94L8.5 2.5l-.94 2.06-2.06.94zm10 10l.94 2.06.94-2.06 2.06-.94-2.06-.94-.94-2.06-.94 2.06-2.06.94z\"/><path d=\"M17.41 7.96l-1.37-1.37c-.4-.4-.92-.59-1.43-.59-.52 0-1.04.2-1.43.59L10.3 9.45l-7.72 7.72c-.78.78-.78 2.05 0 2.83L4 21.41c.39.39.9.59 1.41.59.51 0 1.02-.2 1.41-.59l7.78-7.78 2.81-2.81c.8-.78.8-2.07 0-2.86zM5.41 20L4 18.59l7.72-7.72 1.47 1.35L5.41 20z\"/>\n",
              "  </svg>\n",
              "      </button>\n",
              "      \n",
              "  <style>\n",
              "    .colab-df-container {\n",
              "      display:flex;\n",
              "      flex-wrap:wrap;\n",
              "      gap: 12px;\n",
              "    }\n",
              "\n",
              "    .colab-df-convert {\n",
              "      background-color: #E8F0FE;\n",
              "      border: none;\n",
              "      border-radius: 50%;\n",
              "      cursor: pointer;\n",
              "      display: none;\n",
              "      fill: #1967D2;\n",
              "      height: 32px;\n",
              "      padding: 0 0 0 0;\n",
              "      width: 32px;\n",
              "    }\n",
              "\n",
              "    .colab-df-convert:hover {\n",
              "      background-color: #E2EBFA;\n",
              "      box-shadow: 0px 1px 2px rgba(60, 64, 67, 0.3), 0px 1px 3px 1px rgba(60, 64, 67, 0.15);\n",
              "      fill: #174EA6;\n",
              "    }\n",
              "\n",
              "    [theme=dark] .colab-df-convert {\n",
              "      background-color: #3B4455;\n",
              "      fill: #D2E3FC;\n",
              "    }\n",
              "\n",
              "    [theme=dark] .colab-df-convert:hover {\n",
              "      background-color: #434B5C;\n",
              "      box-shadow: 0px 1px 3px 1px rgba(0, 0, 0, 0.15);\n",
              "      filter: drop-shadow(0px 1px 2px rgba(0, 0, 0, 0.3));\n",
              "      fill: #FFFFFF;\n",
              "    }\n",
              "  </style>\n",
              "\n",
              "      <script>\n",
              "        const buttonEl =\n",
              "          document.querySelector('#df-579e3c55-3be6-4f05-a313-4008b9a2ce77 button.colab-df-convert');\n",
              "        buttonEl.style.display =\n",
              "          google.colab.kernel.accessAllowed ? 'block' : 'none';\n",
              "\n",
              "        async function convertToInteractive(key) {\n",
              "          const element = document.querySelector('#df-579e3c55-3be6-4f05-a313-4008b9a2ce77');\n",
              "          const dataTable =\n",
              "            await google.colab.kernel.invokeFunction('convertToInteractive',\n",
              "                                                     [key], {});\n",
              "          if (!dataTable) return;\n",
              "\n",
              "          const docLinkHtml = 'Like what you see? Visit the ' +\n",
              "            '<a target=\"_blank\" href=https://colab.research.google.com/notebooks/data_table.ipynb>data table notebook</a>'\n",
              "            + ' to learn more about interactive tables.';\n",
              "          element.innerHTML = '';\n",
              "          dataTable['output_type'] = 'display_data';\n",
              "          await google.colab.output.renderOutput(dataTable, element);\n",
              "          const docLink = document.createElement('div');\n",
              "          docLink.innerHTML = docLinkHtml;\n",
              "          element.appendChild(docLink);\n",
              "        }\n",
              "      </script>\n",
              "    </div>\n",
              "  </div>\n",
              "  "
            ],
            "text/plain": [
              "   Time        V1        V2        V3        V4        V5        V6        V7  \\\n",
              "0   0.0 -1.359807 -0.072781  2.536347  1.378155 -0.338321  0.462388  0.239599   \n",
              "1   0.0  1.191857  0.266151  0.166480  0.448154  0.060018 -0.082361 -0.078803   \n",
              "2   1.0 -1.358354 -1.340163  1.773209  0.379780 -0.503198  1.800499  0.791461   \n",
              "3   1.0 -0.966272 -0.185226  1.792993 -0.863291 -0.010309  1.247203  0.237609   \n",
              "4   2.0 -1.158233  0.877737  1.548718  0.403034 -0.407193  0.095921  0.592941   \n",
              "\n",
              "         V8        V9       V10       V11       V12       V13       V14  \\\n",
              "0  0.098698  0.363787  0.090794 -0.551600 -0.617801 -0.991390 -0.311169   \n",
              "1  0.085102 -0.255425 -0.166974  1.612727  1.065235  0.489095 -0.143772   \n",
              "2  0.247676 -1.514654  0.207643  0.624501  0.066084  0.717293 -0.165946   \n",
              "3  0.377436 -1.387024 -0.054952 -0.226487  0.178228  0.507757 -0.287924   \n",
              "4 -0.270533  0.817739  0.753074 -0.822843  0.538196  1.345852 -1.119670   \n",
              "\n",
              "        V15       V16       V17       V18       V19       V20       V21  \\\n",
              "0  1.468177 -0.470401  0.207971  0.025791  0.403993  0.251412 -0.018307   \n",
              "1  0.635558  0.463917 -0.114805 -0.183361 -0.145783 -0.069083 -0.225775   \n",
              "2  2.345865 -2.890083  1.109969 -0.121359 -2.261857  0.524980  0.247998   \n",
              "3 -0.631418 -1.059647 -0.684093  1.965775 -1.232622 -0.208038 -0.108300   \n",
              "4  0.175121 -0.451449 -0.237033 -0.038195  0.803487  0.408542 -0.009431   \n",
              "\n",
              "        V22       V23       V24       V25       V26       V27       V28  \\\n",
              "0  0.277838 -0.110474  0.066928  0.128539 -0.189115  0.133558 -0.021053   \n",
              "1 -0.638672  0.101288 -0.339846  0.167170  0.125895 -0.008983  0.014724   \n",
              "2  0.771679  0.909412 -0.689281 -0.327642 -0.139097 -0.055353 -0.059752   \n",
              "3  0.005274 -0.190321 -1.175575  0.647376 -0.221929  0.062723  0.061458   \n",
              "4  0.798278 -0.137458  0.141267 -0.206010  0.502292  0.219422  0.215153   \n",
              "\n",
              "   Amount  Class  \n",
              "0  149.62      0  \n",
              "1    2.69      0  \n",
              "2  378.66      0  \n",
              "3  123.50      0  \n",
              "4   69.99      0  "
            ]
          },
          "metadata": {},
          "execution_count": 6
        }
      ],
      "source": [
        "dataset.head()"
      ]
    },
    {
      "cell_type": "code",
      "execution_count": null,
      "metadata": {
        "colab": {
          "base_uri": "https://localhost:8080/"
        },
        "id": "lRyWRx1n4MD_",
        "outputId": "b7fae400-d465-4c76-e7ad-662d088887f8"
      },
      "outputs": [
        {
          "output_type": "stream",
          "name": "stdout",
          "text": [
            "<class 'pandas.core.frame.DataFrame'>\n",
            "RangeIndex: 284807 entries, 0 to 284806\n",
            "Data columns (total 31 columns):\n",
            " #   Column  Non-Null Count   Dtype  \n",
            "---  ------  --------------   -----  \n",
            " 0   Time    284807 non-null  float64\n",
            " 1   V1      284807 non-null  float64\n",
            " 2   V2      284807 non-null  float64\n",
            " 3   V3      284807 non-null  float64\n",
            " 4   V4      284807 non-null  float64\n",
            " 5   V5      284807 non-null  float64\n",
            " 6   V6      284807 non-null  float64\n",
            " 7   V7      284807 non-null  float64\n",
            " 8   V8      284807 non-null  float64\n",
            " 9   V9      284807 non-null  float64\n",
            " 10  V10     284807 non-null  float64\n",
            " 11  V11     284807 non-null  float64\n",
            " 12  V12     284807 non-null  float64\n",
            " 13  V13     284807 non-null  float64\n",
            " 14  V14     284807 non-null  float64\n",
            " 15  V15     284807 non-null  float64\n",
            " 16  V16     284807 non-null  float64\n",
            " 17  V17     284807 non-null  float64\n",
            " 18  V18     284807 non-null  float64\n",
            " 19  V19     284807 non-null  float64\n",
            " 20  V20     284807 non-null  float64\n",
            " 21  V21     284807 non-null  float64\n",
            " 22  V22     284807 non-null  float64\n",
            " 23  V23     284807 non-null  float64\n",
            " 24  V24     284807 non-null  float64\n",
            " 25  V25     284807 non-null  float64\n",
            " 26  V26     284807 non-null  float64\n",
            " 27  V27     284807 non-null  float64\n",
            " 28  V28     284807 non-null  float64\n",
            " 29  Amount  284807 non-null  float64\n",
            " 30  Class   284807 non-null  int64  \n",
            "dtypes: float64(30), int64(1)\n",
            "memory usage: 67.4 MB\n"
          ]
        }
      ],
      "source": [
        "dataset.info()"
      ]
    },
    {
      "cell_type": "code",
      "execution_count": null,
      "metadata": {
        "colab": {
          "base_uri": "https://localhost:8080/"
        },
        "id": "zA9sHgdJ4OSo",
        "outputId": "642109a8-3346-419b-b476-fc727b1cd32a"
      },
      "outputs": [
        {
          "output_type": "execute_result",
          "data": {
            "text/plain": [
              "(284807, 31)"
            ]
          },
          "metadata": {},
          "execution_count": 8
        }
      ],
      "source": [
        "dataset.shape"
      ]
    },
    {
      "cell_type": "markdown",
      "metadata": {
        "id": "RmSqiqTg4HaL"
      },
      "source": [
        "###Extract Numerical Columns"
      ]
    },
    {
      "cell_type": "code",
      "execution_count": null,
      "metadata": {
        "colab": {
          "base_uri": "https://localhost:8080/"
        },
        "id": "aA77NeQb4GxB",
        "outputId": "f3bfc1ac-7e0a-47d9-def7-04df9165fc93"
      },
      "outputs": [
        {
          "output_type": "execute_result",
          "data": {
            "text/plain": [
              "['Time',\n",
              " 'V1',\n",
              " 'V2',\n",
              " 'V3',\n",
              " 'V4',\n",
              " 'V5',\n",
              " 'V6',\n",
              " 'V7',\n",
              " 'V8',\n",
              " 'V9',\n",
              " 'V10',\n",
              " 'V11',\n",
              " 'V12',\n",
              " 'V13',\n",
              " 'V14',\n",
              " 'V15',\n",
              " 'V16',\n",
              " 'V17',\n",
              " 'V18',\n",
              " 'V19',\n",
              " 'V20',\n",
              " 'V21',\n",
              " 'V22',\n",
              " 'V23',\n",
              " 'V24',\n",
              " 'V25',\n",
              " 'V26',\n",
              " 'V27',\n",
              " 'V28',\n",
              " 'Amount']"
            ]
          },
          "metadata": {},
          "execution_count": 10
        }
      ],
      "source": [
        "dataset_numerical_features = [col for col in dataset.columns if dataset[col].dtype == 'float64'] \n",
        "\n",
        "dataset_numerical_features"
      ]
    },
    {
      "cell_type": "markdown",
      "metadata": {
        "id": "CcsF6gJ14eQL"
      },
      "source": [
        "###Remove unnecessary columns"
      ]
    },
    {
      "cell_type": "code",
      "execution_count": null,
      "metadata": {
        "colab": {
          "base_uri": "https://localhost:8080/"
        },
        "id": "XqLzD-864hl7",
        "outputId": "02af18a1-25c2-4ffb-a592-0f03e9d180db"
      },
      "outputs": [
        {
          "output_type": "execute_result",
          "data": {
            "text/plain": [
              "['Time',\n",
              " 'V1',\n",
              " 'V2',\n",
              " 'V3',\n",
              " 'V4',\n",
              " 'V5',\n",
              " 'V6',\n",
              " 'V7',\n",
              " 'V8',\n",
              " 'V9',\n",
              " 'V10',\n",
              " 'V11',\n",
              " 'V12',\n",
              " 'V13',\n",
              " 'V14',\n",
              " 'V15',\n",
              " 'V16',\n",
              " 'V17',\n",
              " 'V18',\n",
              " 'V19',\n",
              " 'V20',\n",
              " 'V21',\n",
              " 'V22',\n",
              " 'V23',\n",
              " 'V24',\n",
              " 'V25',\n",
              " 'V26',\n",
              " 'V27',\n",
              " 'V28',\n",
              " 'Amount']"
            ]
          },
          "metadata": {},
          "execution_count": 12
        }
      ],
      "source": [
        "# check after removing the column label\n",
        "dataset_numerical_features"
      ]
    },
    {
      "cell_type": "code",
      "execution_count": null,
      "metadata": {
        "id": "fcN-jQQ14oCN"
      },
      "outputs": [],
      "source": [
        "# extract the numerical only dataset\n",
        "numerical_features_datset = dataset[dataset_numerical_features]"
      ]
    },
    {
      "cell_type": "code",
      "execution_count": null,
      "metadata": {
        "colab": {
          "base_uri": "https://localhost:8080/",
          "height": 270
        },
        "id": "iPNJuy1_4p1R",
        "outputId": "b7f9335b-af06-4e39-ddea-14534d643bb9"
      },
      "outputs": [
        {
          "output_type": "execute_result",
          "data": {
            "text/html": [
              "\n",
              "  <div id=\"df-efdbb63b-61f9-41c6-85c4-a43083f941ab\">\n",
              "    <div class=\"colab-df-container\">\n",
              "      <div>\n",
              "<style scoped>\n",
              "    .dataframe tbody tr th:only-of-type {\n",
              "        vertical-align: middle;\n",
              "    }\n",
              "\n",
              "    .dataframe tbody tr th {\n",
              "        vertical-align: top;\n",
              "    }\n",
              "\n",
              "    .dataframe thead th {\n",
              "        text-align: right;\n",
              "    }\n",
              "</style>\n",
              "<table border=\"1\" class=\"dataframe\">\n",
              "  <thead>\n",
              "    <tr style=\"text-align: right;\">\n",
              "      <th></th>\n",
              "      <th>Time</th>\n",
              "      <th>V1</th>\n",
              "      <th>V2</th>\n",
              "      <th>V3</th>\n",
              "      <th>V4</th>\n",
              "      <th>V5</th>\n",
              "      <th>V6</th>\n",
              "      <th>V7</th>\n",
              "      <th>V8</th>\n",
              "      <th>V9</th>\n",
              "      <th>V10</th>\n",
              "      <th>V11</th>\n",
              "      <th>V12</th>\n",
              "      <th>V13</th>\n",
              "      <th>V14</th>\n",
              "      <th>V15</th>\n",
              "      <th>V16</th>\n",
              "      <th>V17</th>\n",
              "      <th>V18</th>\n",
              "      <th>V19</th>\n",
              "      <th>V20</th>\n",
              "      <th>V21</th>\n",
              "      <th>V22</th>\n",
              "      <th>V23</th>\n",
              "      <th>V24</th>\n",
              "      <th>V25</th>\n",
              "      <th>V26</th>\n",
              "      <th>V27</th>\n",
              "      <th>V28</th>\n",
              "      <th>Amount</th>\n",
              "    </tr>\n",
              "  </thead>\n",
              "  <tbody>\n",
              "    <tr>\n",
              "      <th>0</th>\n",
              "      <td>0.0</td>\n",
              "      <td>-1.359807</td>\n",
              "      <td>-0.072781</td>\n",
              "      <td>2.536347</td>\n",
              "      <td>1.378155</td>\n",
              "      <td>-0.338321</td>\n",
              "      <td>0.462388</td>\n",
              "      <td>0.239599</td>\n",
              "      <td>0.098698</td>\n",
              "      <td>0.363787</td>\n",
              "      <td>0.090794</td>\n",
              "      <td>-0.551600</td>\n",
              "      <td>-0.617801</td>\n",
              "      <td>-0.991390</td>\n",
              "      <td>-0.311169</td>\n",
              "      <td>1.468177</td>\n",
              "      <td>-0.470401</td>\n",
              "      <td>0.207971</td>\n",
              "      <td>0.025791</td>\n",
              "      <td>0.403993</td>\n",
              "      <td>0.251412</td>\n",
              "      <td>-0.018307</td>\n",
              "      <td>0.277838</td>\n",
              "      <td>-0.110474</td>\n",
              "      <td>0.066928</td>\n",
              "      <td>0.128539</td>\n",
              "      <td>-0.189115</td>\n",
              "      <td>0.133558</td>\n",
              "      <td>-0.021053</td>\n",
              "      <td>149.62</td>\n",
              "    </tr>\n",
              "    <tr>\n",
              "      <th>1</th>\n",
              "      <td>0.0</td>\n",
              "      <td>1.191857</td>\n",
              "      <td>0.266151</td>\n",
              "      <td>0.166480</td>\n",
              "      <td>0.448154</td>\n",
              "      <td>0.060018</td>\n",
              "      <td>-0.082361</td>\n",
              "      <td>-0.078803</td>\n",
              "      <td>0.085102</td>\n",
              "      <td>-0.255425</td>\n",
              "      <td>-0.166974</td>\n",
              "      <td>1.612727</td>\n",
              "      <td>1.065235</td>\n",
              "      <td>0.489095</td>\n",
              "      <td>-0.143772</td>\n",
              "      <td>0.635558</td>\n",
              "      <td>0.463917</td>\n",
              "      <td>-0.114805</td>\n",
              "      <td>-0.183361</td>\n",
              "      <td>-0.145783</td>\n",
              "      <td>-0.069083</td>\n",
              "      <td>-0.225775</td>\n",
              "      <td>-0.638672</td>\n",
              "      <td>0.101288</td>\n",
              "      <td>-0.339846</td>\n",
              "      <td>0.167170</td>\n",
              "      <td>0.125895</td>\n",
              "      <td>-0.008983</td>\n",
              "      <td>0.014724</td>\n",
              "      <td>2.69</td>\n",
              "    </tr>\n",
              "    <tr>\n",
              "      <th>2</th>\n",
              "      <td>1.0</td>\n",
              "      <td>-1.358354</td>\n",
              "      <td>-1.340163</td>\n",
              "      <td>1.773209</td>\n",
              "      <td>0.379780</td>\n",
              "      <td>-0.503198</td>\n",
              "      <td>1.800499</td>\n",
              "      <td>0.791461</td>\n",
              "      <td>0.247676</td>\n",
              "      <td>-1.514654</td>\n",
              "      <td>0.207643</td>\n",
              "      <td>0.624501</td>\n",
              "      <td>0.066084</td>\n",
              "      <td>0.717293</td>\n",
              "      <td>-0.165946</td>\n",
              "      <td>2.345865</td>\n",
              "      <td>-2.890083</td>\n",
              "      <td>1.109969</td>\n",
              "      <td>-0.121359</td>\n",
              "      <td>-2.261857</td>\n",
              "      <td>0.524980</td>\n",
              "      <td>0.247998</td>\n",
              "      <td>0.771679</td>\n",
              "      <td>0.909412</td>\n",
              "      <td>-0.689281</td>\n",
              "      <td>-0.327642</td>\n",
              "      <td>-0.139097</td>\n",
              "      <td>-0.055353</td>\n",
              "      <td>-0.059752</td>\n",
              "      <td>378.66</td>\n",
              "    </tr>\n",
              "    <tr>\n",
              "      <th>3</th>\n",
              "      <td>1.0</td>\n",
              "      <td>-0.966272</td>\n",
              "      <td>-0.185226</td>\n",
              "      <td>1.792993</td>\n",
              "      <td>-0.863291</td>\n",
              "      <td>-0.010309</td>\n",
              "      <td>1.247203</td>\n",
              "      <td>0.237609</td>\n",
              "      <td>0.377436</td>\n",
              "      <td>-1.387024</td>\n",
              "      <td>-0.054952</td>\n",
              "      <td>-0.226487</td>\n",
              "      <td>0.178228</td>\n",
              "      <td>0.507757</td>\n",
              "      <td>-0.287924</td>\n",
              "      <td>-0.631418</td>\n",
              "      <td>-1.059647</td>\n",
              "      <td>-0.684093</td>\n",
              "      <td>1.965775</td>\n",
              "      <td>-1.232622</td>\n",
              "      <td>-0.208038</td>\n",
              "      <td>-0.108300</td>\n",
              "      <td>0.005274</td>\n",
              "      <td>-0.190321</td>\n",
              "      <td>-1.175575</td>\n",
              "      <td>0.647376</td>\n",
              "      <td>-0.221929</td>\n",
              "      <td>0.062723</td>\n",
              "      <td>0.061458</td>\n",
              "      <td>123.50</td>\n",
              "    </tr>\n",
              "    <tr>\n",
              "      <th>4</th>\n",
              "      <td>2.0</td>\n",
              "      <td>-1.158233</td>\n",
              "      <td>0.877737</td>\n",
              "      <td>1.548718</td>\n",
              "      <td>0.403034</td>\n",
              "      <td>-0.407193</td>\n",
              "      <td>0.095921</td>\n",
              "      <td>0.592941</td>\n",
              "      <td>-0.270533</td>\n",
              "      <td>0.817739</td>\n",
              "      <td>0.753074</td>\n",
              "      <td>-0.822843</td>\n",
              "      <td>0.538196</td>\n",
              "      <td>1.345852</td>\n",
              "      <td>-1.119670</td>\n",
              "      <td>0.175121</td>\n",
              "      <td>-0.451449</td>\n",
              "      <td>-0.237033</td>\n",
              "      <td>-0.038195</td>\n",
              "      <td>0.803487</td>\n",
              "      <td>0.408542</td>\n",
              "      <td>-0.009431</td>\n",
              "      <td>0.798278</td>\n",
              "      <td>-0.137458</td>\n",
              "      <td>0.141267</td>\n",
              "      <td>-0.206010</td>\n",
              "      <td>0.502292</td>\n",
              "      <td>0.219422</td>\n",
              "      <td>0.215153</td>\n",
              "      <td>69.99</td>\n",
              "    </tr>\n",
              "  </tbody>\n",
              "</table>\n",
              "</div>\n",
              "      <button class=\"colab-df-convert\" onclick=\"convertToInteractive('df-efdbb63b-61f9-41c6-85c4-a43083f941ab')\"\n",
              "              title=\"Convert this dataframe to an interactive table.\"\n",
              "              style=\"display:none;\">\n",
              "        \n",
              "  <svg xmlns=\"http://www.w3.org/2000/svg\" height=\"24px\"viewBox=\"0 0 24 24\"\n",
              "       width=\"24px\">\n",
              "    <path d=\"M0 0h24v24H0V0z\" fill=\"none\"/>\n",
              "    <path d=\"M18.56 5.44l.94 2.06.94-2.06 2.06-.94-2.06-.94-.94-2.06-.94 2.06-2.06.94zm-11 1L8.5 8.5l.94-2.06 2.06-.94-2.06-.94L8.5 2.5l-.94 2.06-2.06.94zm10 10l.94 2.06.94-2.06 2.06-.94-2.06-.94-.94-2.06-.94 2.06-2.06.94z\"/><path d=\"M17.41 7.96l-1.37-1.37c-.4-.4-.92-.59-1.43-.59-.52 0-1.04.2-1.43.59L10.3 9.45l-7.72 7.72c-.78.78-.78 2.05 0 2.83L4 21.41c.39.39.9.59 1.41.59.51 0 1.02-.2 1.41-.59l7.78-7.78 2.81-2.81c.8-.78.8-2.07 0-2.86zM5.41 20L4 18.59l7.72-7.72 1.47 1.35L5.41 20z\"/>\n",
              "  </svg>\n",
              "      </button>\n",
              "      \n",
              "  <style>\n",
              "    .colab-df-container {\n",
              "      display:flex;\n",
              "      flex-wrap:wrap;\n",
              "      gap: 12px;\n",
              "    }\n",
              "\n",
              "    .colab-df-convert {\n",
              "      background-color: #E8F0FE;\n",
              "      border: none;\n",
              "      border-radius: 50%;\n",
              "      cursor: pointer;\n",
              "      display: none;\n",
              "      fill: #1967D2;\n",
              "      height: 32px;\n",
              "      padding: 0 0 0 0;\n",
              "      width: 32px;\n",
              "    }\n",
              "\n",
              "    .colab-df-convert:hover {\n",
              "      background-color: #E2EBFA;\n",
              "      box-shadow: 0px 1px 2px rgba(60, 64, 67, 0.3), 0px 1px 3px 1px rgba(60, 64, 67, 0.15);\n",
              "      fill: #174EA6;\n",
              "    }\n",
              "\n",
              "    [theme=dark] .colab-df-convert {\n",
              "      background-color: #3B4455;\n",
              "      fill: #D2E3FC;\n",
              "    }\n",
              "\n",
              "    [theme=dark] .colab-df-convert:hover {\n",
              "      background-color: #434B5C;\n",
              "      box-shadow: 0px 1px 3px 1px rgba(0, 0, 0, 0.15);\n",
              "      filter: drop-shadow(0px 1px 2px rgba(0, 0, 0, 0.3));\n",
              "      fill: #FFFFFF;\n",
              "    }\n",
              "  </style>\n",
              "\n",
              "      <script>\n",
              "        const buttonEl =\n",
              "          document.querySelector('#df-efdbb63b-61f9-41c6-85c4-a43083f941ab button.colab-df-convert');\n",
              "        buttonEl.style.display =\n",
              "          google.colab.kernel.accessAllowed ? 'block' : 'none';\n",
              "\n",
              "        async function convertToInteractive(key) {\n",
              "          const element = document.querySelector('#df-efdbb63b-61f9-41c6-85c4-a43083f941ab');\n",
              "          const dataTable =\n",
              "            await google.colab.kernel.invokeFunction('convertToInteractive',\n",
              "                                                     [key], {});\n",
              "          if (!dataTable) return;\n",
              "\n",
              "          const docLinkHtml = 'Like what you see? Visit the ' +\n",
              "            '<a target=\"_blank\" href=https://colab.research.google.com/notebooks/data_table.ipynb>data table notebook</a>'\n",
              "            + ' to learn more about interactive tables.';\n",
              "          element.innerHTML = '';\n",
              "          dataTable['output_type'] = 'display_data';\n",
              "          await google.colab.output.renderOutput(dataTable, element);\n",
              "          const docLink = document.createElement('div');\n",
              "          docLink.innerHTML = docLinkHtml;\n",
              "          element.appendChild(docLink);\n",
              "        }\n",
              "      </script>\n",
              "    </div>\n",
              "  </div>\n",
              "  "
            ],
            "text/plain": [
              "   Time        V1        V2        V3        V4        V5        V6        V7  \\\n",
              "0   0.0 -1.359807 -0.072781  2.536347  1.378155 -0.338321  0.462388  0.239599   \n",
              "1   0.0  1.191857  0.266151  0.166480  0.448154  0.060018 -0.082361 -0.078803   \n",
              "2   1.0 -1.358354 -1.340163  1.773209  0.379780 -0.503198  1.800499  0.791461   \n",
              "3   1.0 -0.966272 -0.185226  1.792993 -0.863291 -0.010309  1.247203  0.237609   \n",
              "4   2.0 -1.158233  0.877737  1.548718  0.403034 -0.407193  0.095921  0.592941   \n",
              "\n",
              "         V8        V9       V10       V11       V12       V13       V14  \\\n",
              "0  0.098698  0.363787  0.090794 -0.551600 -0.617801 -0.991390 -0.311169   \n",
              "1  0.085102 -0.255425 -0.166974  1.612727  1.065235  0.489095 -0.143772   \n",
              "2  0.247676 -1.514654  0.207643  0.624501  0.066084  0.717293 -0.165946   \n",
              "3  0.377436 -1.387024 -0.054952 -0.226487  0.178228  0.507757 -0.287924   \n",
              "4 -0.270533  0.817739  0.753074 -0.822843  0.538196  1.345852 -1.119670   \n",
              "\n",
              "        V15       V16       V17       V18       V19       V20       V21  \\\n",
              "0  1.468177 -0.470401  0.207971  0.025791  0.403993  0.251412 -0.018307   \n",
              "1  0.635558  0.463917 -0.114805 -0.183361 -0.145783 -0.069083 -0.225775   \n",
              "2  2.345865 -2.890083  1.109969 -0.121359 -2.261857  0.524980  0.247998   \n",
              "3 -0.631418 -1.059647 -0.684093  1.965775 -1.232622 -0.208038 -0.108300   \n",
              "4  0.175121 -0.451449 -0.237033 -0.038195  0.803487  0.408542 -0.009431   \n",
              "\n",
              "        V22       V23       V24       V25       V26       V27       V28  \\\n",
              "0  0.277838 -0.110474  0.066928  0.128539 -0.189115  0.133558 -0.021053   \n",
              "1 -0.638672  0.101288 -0.339846  0.167170  0.125895 -0.008983  0.014724   \n",
              "2  0.771679  0.909412 -0.689281 -0.327642 -0.139097 -0.055353 -0.059752   \n",
              "3  0.005274 -0.190321 -1.175575  0.647376 -0.221929  0.062723  0.061458   \n",
              "4  0.798278 -0.137458  0.141267 -0.206010  0.502292  0.219422  0.215153   \n",
              "\n",
              "   Amount  \n",
              "0  149.62  \n",
              "1    2.69  \n",
              "2  378.66  \n",
              "3  123.50  \n",
              "4   69.99  "
            ]
          },
          "metadata": {},
          "execution_count": 16
        }
      ],
      "source": [
        "numerical_features_datset.head()"
      ]
    },
    {
      "cell_type": "markdown",
      "metadata": {
        "id": "WC0iNsDT4t56"
      },
      "source": [
        "###Check for and fill missing values"
      ]
    },
    {
      "cell_type": "code",
      "execution_count": null,
      "metadata": {
        "colab": {
          "base_uri": "https://localhost:8080/"
        },
        "id": "Hvt6Wo2-4rlx",
        "outputId": "89b2b915-b229-487b-d3ed-56356c8a4356"
      },
      "outputs": [
        {
          "output_type": "execute_result",
          "data": {
            "text/plain": [
              "Time      0\n",
              "V1        0\n",
              "V2        0\n",
              "V3        0\n",
              "V4        0\n",
              "V5        0\n",
              "V6        0\n",
              "V7        0\n",
              "V8        0\n",
              "V9        0\n",
              "V10       0\n",
              "V11       0\n",
              "V12       0\n",
              "V13       0\n",
              "V14       0\n",
              "V15       0\n",
              "V16       0\n",
              "V17       0\n",
              "V18       0\n",
              "V19       0\n",
              "V20       0\n",
              "V21       0\n",
              "V22       0\n",
              "V23       0\n",
              "V24       0\n",
              "V25       0\n",
              "V26       0\n",
              "V27       0\n",
              "V28       0\n",
              "Amount    0\n",
              "dtype: int64"
            ]
          },
          "metadata": {},
          "execution_count": 17
        }
      ],
      "source": [
        "numerical_features_datset.isnull().sum()"
      ]
    },
    {
      "cell_type": "code",
      "execution_count": null,
      "metadata": {
        "colab": {
          "base_uri": "https://localhost:8080/"
        },
        "id": "dhof7MAV4v0l",
        "outputId": "4cc07a0f-1592-4036-f2de-90cc148c679e"
      },
      "outputs": [
        {
          "output_type": "stream",
          "name": "stderr",
          "text": [
            "/usr/local/lib/python3.7/dist-packages/ipykernel_launcher.py:2: SettingWithCopyWarning: \n",
            "A value is trying to be set on a copy of a slice from a DataFrame.\n",
            "Try using .loc[row_indexer,col_indexer] = value instead\n",
            "\n",
            "See the caveats in the documentation: https://pandas.pydata.org/pandas-docs/stable/user_guide/indexing.html#returning-a-view-versus-a-copy\n",
            "  \n"
          ]
        }
      ],
      "source": [
        "for col in dataset_numerical_features:\n",
        "    numerical_features_datset[col] = numerical_features_datset[col].fillna(numerical_features_datset[col].median())"
      ]
    },
    {
      "cell_type": "code",
      "execution_count": null,
      "metadata": {
        "colab": {
          "base_uri": "https://localhost:8080/"
        },
        "id": "R1U6D-x94ydn",
        "outputId": "ba414e2e-d65a-4296-815e-2352d1ed05d9"
      },
      "outputs": [
        {
          "output_type": "execute_result",
          "data": {
            "text/plain": [
              "Time      0\n",
              "V1        0\n",
              "V2        0\n",
              "V3        0\n",
              "V4        0\n",
              "V5        0\n",
              "V6        0\n",
              "V7        0\n",
              "V8        0\n",
              "V9        0\n",
              "V10       0\n",
              "V11       0\n",
              "V12       0\n",
              "V13       0\n",
              "V14       0\n",
              "V15       0\n",
              "V16       0\n",
              "V17       0\n",
              "V18       0\n",
              "V19       0\n",
              "V20       0\n",
              "V21       0\n",
              "V22       0\n",
              "V23       0\n",
              "V24       0\n",
              "V25       0\n",
              "V26       0\n",
              "V27       0\n",
              "V28       0\n",
              "Amount    0\n",
              "dtype: int64"
            ]
          },
          "metadata": {},
          "execution_count": 19
        }
      ],
      "source": [
        "numerical_features_datset.isnull().sum()"
      ]
    },
    {
      "cell_type": "markdown",
      "metadata": {
        "id": "QSD9zDrv4339"
      },
      "source": [
        "###Scaling Data"
      ]
    },
    {
      "cell_type": "code",
      "execution_count": null,
      "metadata": {
        "colab": {
          "base_uri": "https://localhost:8080/"
        },
        "id": "bDlynSPP40O3",
        "outputId": "7595653d-3686-4cb6-8bf0-a7c224cc8d0d"
      },
      "outputs": [
        {
          "output_type": "execute_result",
          "data": {
            "text/plain": [
              "MinMaxScaler()"
            ]
          },
          "metadata": {},
          "execution_count": 20
        }
      ],
      "source": [
        "from sklearn.preprocessing import MinMaxScaler\n",
        "\n",
        "min_max_scaler = MinMaxScaler()\n",
        "\n",
        "min_max_scaler.fit(numerical_features_datset)"
      ]
    },
    {
      "cell_type": "code",
      "execution_count": null,
      "metadata": {
        "id": "SlmrIyAi46G7"
      },
      "outputs": [],
      "source": [
        "# get scaled data \n",
        "dataset_scaled = pd.DataFrame(min_max_scaler.transform(numerical_features_datset))\n",
        "\n",
        "# assign column labels\n",
        "dataset_scaled.columns = dataset_numerical_features"
      ]
    },
    {
      "cell_type": "code",
      "execution_count": null,
      "metadata": {
        "colab": {
          "base_uri": "https://localhost:8080/",
          "height": 364
        },
        "id": "lXKaMCDy48PK",
        "outputId": "e766382c-f71d-4462-a60d-0e3202ffd8eb"
      },
      "outputs": [
        {
          "output_type": "execute_result",
          "data": {
            "text/html": [
              "\n",
              "  <div id=\"df-b3c84ac4-3c0a-4ce1-bb9b-ec4481166219\">\n",
              "    <div class=\"colab-df-container\">\n",
              "      <div>\n",
              "<style scoped>\n",
              "    .dataframe tbody tr th:only-of-type {\n",
              "        vertical-align: middle;\n",
              "    }\n",
              "\n",
              "    .dataframe tbody tr th {\n",
              "        vertical-align: top;\n",
              "    }\n",
              "\n",
              "    .dataframe thead th {\n",
              "        text-align: right;\n",
              "    }\n",
              "</style>\n",
              "<table border=\"1\" class=\"dataframe\">\n",
              "  <thead>\n",
              "    <tr style=\"text-align: right;\">\n",
              "      <th></th>\n",
              "      <th>Time</th>\n",
              "      <th>V1</th>\n",
              "      <th>V2</th>\n",
              "      <th>V3</th>\n",
              "      <th>V4</th>\n",
              "      <th>V5</th>\n",
              "      <th>V6</th>\n",
              "      <th>V7</th>\n",
              "      <th>V8</th>\n",
              "      <th>V9</th>\n",
              "      <th>V10</th>\n",
              "      <th>V11</th>\n",
              "      <th>V12</th>\n",
              "      <th>V13</th>\n",
              "      <th>V14</th>\n",
              "      <th>V15</th>\n",
              "      <th>V16</th>\n",
              "      <th>V17</th>\n",
              "      <th>V18</th>\n",
              "      <th>V19</th>\n",
              "      <th>V20</th>\n",
              "      <th>V21</th>\n",
              "      <th>V22</th>\n",
              "      <th>V23</th>\n",
              "      <th>V24</th>\n",
              "      <th>V25</th>\n",
              "      <th>V26</th>\n",
              "      <th>V27</th>\n",
              "      <th>V28</th>\n",
              "      <th>Amount</th>\n",
              "    </tr>\n",
              "  </thead>\n",
              "  <tbody>\n",
              "    <tr>\n",
              "      <th>count</th>\n",
              "      <td>284807.000000</td>\n",
              "      <td>284807.000000</td>\n",
              "      <td>284807.000000</td>\n",
              "      <td>284807.000000</td>\n",
              "      <td>284807.000000</td>\n",
              "      <td>284807.000000</td>\n",
              "      <td>284807.000000</td>\n",
              "      <td>284807.000000</td>\n",
              "      <td>284807.000000</td>\n",
              "      <td>284807.000000</td>\n",
              "      <td>284807.000000</td>\n",
              "      <td>284807.000000</td>\n",
              "      <td>284807.000000</td>\n",
              "      <td>284807.000000</td>\n",
              "      <td>284807.000000</td>\n",
              "      <td>284807.000000</td>\n",
              "      <td>284807.000000</td>\n",
              "      <td>284807.000000</td>\n",
              "      <td>284807.000000</td>\n",
              "      <td>284807.000000</td>\n",
              "      <td>284807.000000</td>\n",
              "      <td>284807.000000</td>\n",
              "      <td>284807.000000</td>\n",
              "      <td>284807.000000</td>\n",
              "      <td>284807.000000</td>\n",
              "      <td>284807.000000</td>\n",
              "      <td>284807.000000</td>\n",
              "      <td>284807.000000</td>\n",
              "      <td>284807.000000</td>\n",
              "      <td>284807.000000</td>\n",
              "    </tr>\n",
              "    <tr>\n",
              "      <th>mean</th>\n",
              "      <td>0.548717</td>\n",
              "      <td>0.958294</td>\n",
              "      <td>0.767258</td>\n",
              "      <td>0.837414</td>\n",
              "      <td>0.251930</td>\n",
              "      <td>0.765716</td>\n",
              "      <td>0.263020</td>\n",
              "      <td>0.265356</td>\n",
              "      <td>0.785385</td>\n",
              "      <td>0.462780</td>\n",
              "      <td>0.508722</td>\n",
              "      <td>0.285286</td>\n",
              "      <td>0.704193</td>\n",
              "      <td>0.448331</td>\n",
              "      <td>0.646053</td>\n",
              "      <td>0.336327</td>\n",
              "      <td>0.449352</td>\n",
              "      <td>0.731130</td>\n",
              "      <td>0.653292</td>\n",
              "      <td>0.563315</td>\n",
              "      <td>0.580265</td>\n",
              "      <td>0.561480</td>\n",
              "      <td>0.510031</td>\n",
              "      <td>0.665434</td>\n",
              "      <td>0.382234</td>\n",
              "      <td>0.577907</td>\n",
              "      <td>0.425448</td>\n",
              "      <td>0.416511</td>\n",
              "      <td>0.313124</td>\n",
              "      <td>0.003439</td>\n",
              "    </tr>\n",
              "    <tr>\n",
              "      <th>std</th>\n",
              "      <td>0.274828</td>\n",
              "      <td>0.033276</td>\n",
              "      <td>0.017424</td>\n",
              "      <td>0.026275</td>\n",
              "      <td>0.062764</td>\n",
              "      <td>0.009292</td>\n",
              "      <td>0.013395</td>\n",
              "      <td>0.007537</td>\n",
              "      <td>0.012812</td>\n",
              "      <td>0.037846</td>\n",
              "      <td>0.022528</td>\n",
              "      <td>0.060698</td>\n",
              "      <td>0.037660</td>\n",
              "      <td>0.077041</td>\n",
              "      <td>0.032231</td>\n",
              "      <td>0.068426</td>\n",
              "      <td>0.027866</td>\n",
              "      <td>0.024678</td>\n",
              "      <td>0.057647</td>\n",
              "      <td>0.063570</td>\n",
              "      <td>0.008208</td>\n",
              "      <td>0.011841</td>\n",
              "      <td>0.033854</td>\n",
              "      <td>0.009274</td>\n",
              "      <td>0.081611</td>\n",
              "      <td>0.029261</td>\n",
              "      <td>0.078771</td>\n",
              "      <td>0.007450</td>\n",
              "      <td>0.006698</td>\n",
              "      <td>0.009736</td>\n",
              "    </tr>\n",
              "    <tr>\n",
              "      <th>min</th>\n",
              "      <td>0.000000</td>\n",
              "      <td>0.000000</td>\n",
              "      <td>0.000000</td>\n",
              "      <td>0.000000</td>\n",
              "      <td>0.000000</td>\n",
              "      <td>0.000000</td>\n",
              "      <td>0.000000</td>\n",
              "      <td>0.000000</td>\n",
              "      <td>0.000000</td>\n",
              "      <td>0.000000</td>\n",
              "      <td>0.000000</td>\n",
              "      <td>0.000000</td>\n",
              "      <td>0.000000</td>\n",
              "      <td>0.000000</td>\n",
              "      <td>0.000000</td>\n",
              "      <td>0.000000</td>\n",
              "      <td>0.000000</td>\n",
              "      <td>0.000000</td>\n",
              "      <td>0.000000</td>\n",
              "      <td>0.000000</td>\n",
              "      <td>0.000000</td>\n",
              "      <td>0.000000</td>\n",
              "      <td>0.000000</td>\n",
              "      <td>0.000000</td>\n",
              "      <td>0.000000</td>\n",
              "      <td>0.000000</td>\n",
              "      <td>0.000000</td>\n",
              "      <td>0.000000</td>\n",
              "      <td>0.000000</td>\n",
              "      <td>0.000000</td>\n",
              "    </tr>\n",
              "    <tr>\n",
              "      <th>25%</th>\n",
              "      <td>0.313681</td>\n",
              "      <td>0.942658</td>\n",
              "      <td>0.760943</td>\n",
              "      <td>0.821985</td>\n",
              "      <td>0.214311</td>\n",
              "      <td>0.761060</td>\n",
              "      <td>0.255295</td>\n",
              "      <td>0.261980</td>\n",
              "      <td>0.783148</td>\n",
              "      <td>0.440626</td>\n",
              "      <td>0.497644</td>\n",
              "      <td>0.239943</td>\n",
              "      <td>0.688907</td>\n",
              "      <td>0.398130</td>\n",
              "      <td>0.631744</td>\n",
              "      <td>0.292753</td>\n",
              "      <td>0.434468</td>\n",
              "      <td>0.717074</td>\n",
              "      <td>0.618983</td>\n",
              "      <td>0.527682</td>\n",
              "      <td>0.578011</td>\n",
              "      <td>0.557798</td>\n",
              "      <td>0.484730</td>\n",
              "      <td>0.663030</td>\n",
              "      <td>0.334454</td>\n",
              "      <td>0.560104</td>\n",
              "      <td>0.372036</td>\n",
              "      <td>0.415203</td>\n",
              "      <td>0.312049</td>\n",
              "      <td>0.000218</td>\n",
              "    </tr>\n",
              "    <tr>\n",
              "      <th>50%</th>\n",
              "      <td>0.490138</td>\n",
              "      <td>0.958601</td>\n",
              "      <td>0.767949</td>\n",
              "      <td>0.840530</td>\n",
              "      <td>0.251050</td>\n",
              "      <td>0.765351</td>\n",
              "      <td>0.260263</td>\n",
              "      <td>0.265600</td>\n",
              "      <td>0.785625</td>\n",
              "      <td>0.461008</td>\n",
              "      <td>0.506800</td>\n",
              "      <td>0.283338</td>\n",
              "      <td>0.709471</td>\n",
              "      <td>0.447281</td>\n",
              "      <td>0.647755</td>\n",
              "      <td>0.339921</td>\n",
              "      <td>0.451464</td>\n",
              "      <td>0.729221</td>\n",
              "      <td>0.653042</td>\n",
              "      <td>0.563606</td>\n",
              "      <td>0.579600</td>\n",
              "      <td>0.561005</td>\n",
              "      <td>0.510347</td>\n",
              "      <td>0.665267</td>\n",
              "      <td>0.387756</td>\n",
              "      <td>0.578838</td>\n",
              "      <td>0.416932</td>\n",
              "      <td>0.416536</td>\n",
              "      <td>0.313352</td>\n",
              "      <td>0.000856</td>\n",
              "    </tr>\n",
              "    <tr>\n",
              "      <th>75%</th>\n",
              "      <td>0.806290</td>\n",
              "      <td>0.980645</td>\n",
              "      <td>0.775739</td>\n",
              "      <td>0.855213</td>\n",
              "      <td>0.284882</td>\n",
              "      <td>0.769836</td>\n",
              "      <td>0.267027</td>\n",
              "      <td>0.268831</td>\n",
              "      <td>0.788897</td>\n",
              "      <td>0.483350</td>\n",
              "      <td>0.518113</td>\n",
              "      <td>0.329266</td>\n",
              "      <td>0.727494</td>\n",
              "      <td>0.499613</td>\n",
              "      <td>0.662635</td>\n",
              "      <td>0.384831</td>\n",
              "      <td>0.465994</td>\n",
              "      <td>0.742743</td>\n",
              "      <td>0.687736</td>\n",
              "      <td>0.599155</td>\n",
              "      <td>0.581682</td>\n",
              "      <td>0.564484</td>\n",
              "      <td>0.534688</td>\n",
              "      <td>0.667626</td>\n",
              "      <td>0.441460</td>\n",
              "      <td>0.597593</td>\n",
              "      <td>0.464807</td>\n",
              "      <td>0.418191</td>\n",
              "      <td>0.314712</td>\n",
              "      <td>0.003004</td>\n",
              "    </tr>\n",
              "    <tr>\n",
              "      <th>max</th>\n",
              "      <td>1.000000</td>\n",
              "      <td>1.000000</td>\n",
              "      <td>1.000000</td>\n",
              "      <td>1.000000</td>\n",
              "      <td>1.000000</td>\n",
              "      <td>1.000000</td>\n",
              "      <td>1.000000</td>\n",
              "      <td>1.000000</td>\n",
              "      <td>1.000000</td>\n",
              "      <td>1.000000</td>\n",
              "      <td>1.000000</td>\n",
              "      <td>1.000000</td>\n",
              "      <td>1.000000</td>\n",
              "      <td>1.000000</td>\n",
              "      <td>1.000000</td>\n",
              "      <td>1.000000</td>\n",
              "      <td>1.000000</td>\n",
              "      <td>1.000000</td>\n",
              "      <td>1.000000</td>\n",
              "      <td>1.000000</td>\n",
              "      <td>1.000000</td>\n",
              "      <td>1.000000</td>\n",
              "      <td>1.000000</td>\n",
              "      <td>1.000000</td>\n",
              "      <td>1.000000</td>\n",
              "      <td>1.000000</td>\n",
              "      <td>1.000000</td>\n",
              "      <td>1.000000</td>\n",
              "      <td>1.000000</td>\n",
              "      <td>1.000000</td>\n",
              "    </tr>\n",
              "  </tbody>\n",
              "</table>\n",
              "</div>\n",
              "      <button class=\"colab-df-convert\" onclick=\"convertToInteractive('df-b3c84ac4-3c0a-4ce1-bb9b-ec4481166219')\"\n",
              "              title=\"Convert this dataframe to an interactive table.\"\n",
              "              style=\"display:none;\">\n",
              "        \n",
              "  <svg xmlns=\"http://www.w3.org/2000/svg\" height=\"24px\"viewBox=\"0 0 24 24\"\n",
              "       width=\"24px\">\n",
              "    <path d=\"M0 0h24v24H0V0z\" fill=\"none\"/>\n",
              "    <path d=\"M18.56 5.44l.94 2.06.94-2.06 2.06-.94-2.06-.94-.94-2.06-.94 2.06-2.06.94zm-11 1L8.5 8.5l.94-2.06 2.06-.94-2.06-.94L8.5 2.5l-.94 2.06-2.06.94zm10 10l.94 2.06.94-2.06 2.06-.94-2.06-.94-.94-2.06-.94 2.06-2.06.94z\"/><path d=\"M17.41 7.96l-1.37-1.37c-.4-.4-.92-.59-1.43-.59-.52 0-1.04.2-1.43.59L10.3 9.45l-7.72 7.72c-.78.78-.78 2.05 0 2.83L4 21.41c.39.39.9.59 1.41.59.51 0 1.02-.2 1.41-.59l7.78-7.78 2.81-2.81c.8-.78.8-2.07 0-2.86zM5.41 20L4 18.59l7.72-7.72 1.47 1.35L5.41 20z\"/>\n",
              "  </svg>\n",
              "      </button>\n",
              "      \n",
              "  <style>\n",
              "    .colab-df-container {\n",
              "      display:flex;\n",
              "      flex-wrap:wrap;\n",
              "      gap: 12px;\n",
              "    }\n",
              "\n",
              "    .colab-df-convert {\n",
              "      background-color: #E8F0FE;\n",
              "      border: none;\n",
              "      border-radius: 50%;\n",
              "      cursor: pointer;\n",
              "      display: none;\n",
              "      fill: #1967D2;\n",
              "      height: 32px;\n",
              "      padding: 0 0 0 0;\n",
              "      width: 32px;\n",
              "    }\n",
              "\n",
              "    .colab-df-convert:hover {\n",
              "      background-color: #E2EBFA;\n",
              "      box-shadow: 0px 1px 2px rgba(60, 64, 67, 0.3), 0px 1px 3px 1px rgba(60, 64, 67, 0.15);\n",
              "      fill: #174EA6;\n",
              "    }\n",
              "\n",
              "    [theme=dark] .colab-df-convert {\n",
              "      background-color: #3B4455;\n",
              "      fill: #D2E3FC;\n",
              "    }\n",
              "\n",
              "    [theme=dark] .colab-df-convert:hover {\n",
              "      background-color: #434B5C;\n",
              "      box-shadow: 0px 1px 3px 1px rgba(0, 0, 0, 0.15);\n",
              "      filter: drop-shadow(0px 1px 2px rgba(0, 0, 0, 0.3));\n",
              "      fill: #FFFFFF;\n",
              "    }\n",
              "  </style>\n",
              "\n",
              "      <script>\n",
              "        const buttonEl =\n",
              "          document.querySelector('#df-b3c84ac4-3c0a-4ce1-bb9b-ec4481166219 button.colab-df-convert');\n",
              "        buttonEl.style.display =\n",
              "          google.colab.kernel.accessAllowed ? 'block' : 'none';\n",
              "\n",
              "        async function convertToInteractive(key) {\n",
              "          const element = document.querySelector('#df-b3c84ac4-3c0a-4ce1-bb9b-ec4481166219');\n",
              "          const dataTable =\n",
              "            await google.colab.kernel.invokeFunction('convertToInteractive',\n",
              "                                                     [key], {});\n",
              "          if (!dataTable) return;\n",
              "\n",
              "          const docLinkHtml = 'Like what you see? Visit the ' +\n",
              "            '<a target=\"_blank\" href=https://colab.research.google.com/notebooks/data_table.ipynb>data table notebook</a>'\n",
              "            + ' to learn more about interactive tables.';\n",
              "          element.innerHTML = '';\n",
              "          dataTable['output_type'] = 'display_data';\n",
              "          await google.colab.output.renderOutput(dataTable, element);\n",
              "          const docLink = document.createElement('div');\n",
              "          docLink.innerHTML = docLinkHtml;\n",
              "          element.appendChild(docLink);\n",
              "        }\n",
              "      </script>\n",
              "    </div>\n",
              "  </div>\n",
              "  "
            ],
            "text/plain": [
              "                Time             V1             V2             V3  \\\n",
              "count  284807.000000  284807.000000  284807.000000  284807.000000   \n",
              "mean        0.548717       0.958294       0.767258       0.837414   \n",
              "std         0.274828       0.033276       0.017424       0.026275   \n",
              "min         0.000000       0.000000       0.000000       0.000000   \n",
              "25%         0.313681       0.942658       0.760943       0.821985   \n",
              "50%         0.490138       0.958601       0.767949       0.840530   \n",
              "75%         0.806290       0.980645       0.775739       0.855213   \n",
              "max         1.000000       1.000000       1.000000       1.000000   \n",
              "\n",
              "                  V4             V5             V6             V7  \\\n",
              "count  284807.000000  284807.000000  284807.000000  284807.000000   \n",
              "mean        0.251930       0.765716       0.263020       0.265356   \n",
              "std         0.062764       0.009292       0.013395       0.007537   \n",
              "min         0.000000       0.000000       0.000000       0.000000   \n",
              "25%         0.214311       0.761060       0.255295       0.261980   \n",
              "50%         0.251050       0.765351       0.260263       0.265600   \n",
              "75%         0.284882       0.769836       0.267027       0.268831   \n",
              "max         1.000000       1.000000       1.000000       1.000000   \n",
              "\n",
              "                  V8             V9            V10            V11  \\\n",
              "count  284807.000000  284807.000000  284807.000000  284807.000000   \n",
              "mean        0.785385       0.462780       0.508722       0.285286   \n",
              "std         0.012812       0.037846       0.022528       0.060698   \n",
              "min         0.000000       0.000000       0.000000       0.000000   \n",
              "25%         0.783148       0.440626       0.497644       0.239943   \n",
              "50%         0.785625       0.461008       0.506800       0.283338   \n",
              "75%         0.788897       0.483350       0.518113       0.329266   \n",
              "max         1.000000       1.000000       1.000000       1.000000   \n",
              "\n",
              "                 V12            V13            V14            V15  \\\n",
              "count  284807.000000  284807.000000  284807.000000  284807.000000   \n",
              "mean        0.704193       0.448331       0.646053       0.336327   \n",
              "std         0.037660       0.077041       0.032231       0.068426   \n",
              "min         0.000000       0.000000       0.000000       0.000000   \n",
              "25%         0.688907       0.398130       0.631744       0.292753   \n",
              "50%         0.709471       0.447281       0.647755       0.339921   \n",
              "75%         0.727494       0.499613       0.662635       0.384831   \n",
              "max         1.000000       1.000000       1.000000       1.000000   \n",
              "\n",
              "                 V16            V17            V18            V19  \\\n",
              "count  284807.000000  284807.000000  284807.000000  284807.000000   \n",
              "mean        0.449352       0.731130       0.653292       0.563315   \n",
              "std         0.027866       0.024678       0.057647       0.063570   \n",
              "min         0.000000       0.000000       0.000000       0.000000   \n",
              "25%         0.434468       0.717074       0.618983       0.527682   \n",
              "50%         0.451464       0.729221       0.653042       0.563606   \n",
              "75%         0.465994       0.742743       0.687736       0.599155   \n",
              "max         1.000000       1.000000       1.000000       1.000000   \n",
              "\n",
              "                 V20            V21            V22            V23  \\\n",
              "count  284807.000000  284807.000000  284807.000000  284807.000000   \n",
              "mean        0.580265       0.561480       0.510031       0.665434   \n",
              "std         0.008208       0.011841       0.033854       0.009274   \n",
              "min         0.000000       0.000000       0.000000       0.000000   \n",
              "25%         0.578011       0.557798       0.484730       0.663030   \n",
              "50%         0.579600       0.561005       0.510347       0.665267   \n",
              "75%         0.581682       0.564484       0.534688       0.667626   \n",
              "max         1.000000       1.000000       1.000000       1.000000   \n",
              "\n",
              "                 V24            V25            V26            V27  \\\n",
              "count  284807.000000  284807.000000  284807.000000  284807.000000   \n",
              "mean        0.382234       0.577907       0.425448       0.416511   \n",
              "std         0.081611       0.029261       0.078771       0.007450   \n",
              "min         0.000000       0.000000       0.000000       0.000000   \n",
              "25%         0.334454       0.560104       0.372036       0.415203   \n",
              "50%         0.387756       0.578838       0.416932       0.416536   \n",
              "75%         0.441460       0.597593       0.464807       0.418191   \n",
              "max         1.000000       1.000000       1.000000       1.000000   \n",
              "\n",
              "                 V28         Amount  \n",
              "count  284807.000000  284807.000000  \n",
              "mean        0.313124       0.003439  \n",
              "std         0.006698       0.009736  \n",
              "min         0.000000       0.000000  \n",
              "25%         0.312049       0.000218  \n",
              "50%         0.313352       0.000856  \n",
              "75%         0.314712       0.003004  \n",
              "max         1.000000       1.000000  "
            ]
          },
          "metadata": {},
          "execution_count": 22
        }
      ],
      "source": [
        "dataset_scaled.describe()"
      ]
    },
    {
      "cell_type": "markdown",
      "metadata": {
        "id": "eek2NcUL4_k1"
      },
      "source": [
        "PCA"
      ]
    },
    {
      "cell_type": "code",
      "execution_count": null,
      "metadata": {
        "colab": {
          "base_uri": "https://localhost:8080/"
        },
        "id": "1b2Mp8Qb49qj",
        "outputId": "68857e8c-a7b3-4021-8a7d-8ad8f9d0f090"
      },
      "outputs": [
        {
          "output_type": "execute_result",
          "data": {
            "text/plain": [
              "PCA()"
            ]
          },
          "metadata": {},
          "execution_count": 23
        }
      ],
      "source": [
        "# import PCA from decomposition\n",
        "from sklearn.decomposition import PCA\n",
        "\n",
        "# create the PCA object to use to fit the given data\n",
        "pca = PCA()\n",
        "\n",
        "# fit the PCA with the given cleaned-up data\n",
        "pca.fit(dataset_scaled)"
      ]
    },
    {
      "cell_type": "code",
      "execution_count": null,
      "metadata": {
        "colab": {
          "base_uri": "https://localhost:8080/"
        },
        "id": "9eKadPxW5CVV",
        "outputId": "c159d67a-c3ac-4408-b607-31d9e7906fd0"
      },
      "outputs": [
        {
          "output_type": "stream",
          "name": "stdout",
          "text": [
            "[[-9.94793310e-01 -1.42044030e-02  6.63576210e-04  3.98669881e-02\n",
            "   2.49622845e-02 -5.76912908e-03  3.03187324e-03 -2.28930110e-03\n",
            "   1.69985384e-03  1.19684765e-03 -2.48814334e-03  5.66046184e-02\n",
            "  -1.70981559e-02  1.97274597e-02  1.15632809e-02  4.79216017e-02\n",
            "  -1.20075420e-03  6.53376743e-03 -1.95319357e-02 -6.96950790e-03\n",
            "   1.49758172e-03 -1.90151880e-03 -1.77421173e-02 -1.70145184e-03\n",
            "   5.18472288e-03  2.47157365e-02  1.27220448e-02  1.37182440e-04\n",
            "   2.26061436e-04  3.79014060e-04]\n",
            " [ 4.02136203e-03  7.69880003e-04 -4.04272619e-05 -2.04685554e-03\n",
            "  -2.67184700e-03  2.67291607e-04 -1.41422429e-04  1.09469879e-04\n",
            "  -8.17167586e-05 -7.11392384e-05  1.21795313e-04 -5.58567891e-03\n",
            "   9.87199526e-04 -7.75208017e-03 -6.24851700e-04 -7.01906947e-03\n",
            "   6.22125314e-05 -3.30271459e-04  1.73086994e-03  7.69854794e-04\n",
            "  -6.75905086e-05  9.09085963e-05  9.75449398e-04  7.88393295e-05\n",
            "   9.99880016e-01 -1.30035791e-03 -7.94326014e-03 -6.21644456e-06\n",
            "  -1.04761571e-05  5.87236759e-04]\n",
            " [ 9.22854327e-03  1.95441593e-03 -7.14016867e-05 -5.07330331e-03\n",
            "  -7.43738380e-03  6.70524028e-04 -3.58249083e-04  2.61241902e-04\n",
            "  -1.97908948e-04 -1.72687569e-04  3.09547082e-04 -1.51771197e-02\n",
            "   2.48605427e-03 -4.92979008e-02 -1.56633013e-03 -2.10224476e-02\n",
            "   1.55313831e-04 -8.21228847e-04  4.59814559e-03  2.17582885e-03\n",
            "  -1.75099874e-04  2.20769425e-04  2.45135805e-03  1.97731521e-04\n",
            "   7.22731918e-03 -3.23770427e-03  9.98309693e-01 -1.59775910e-05\n",
            "  -2.60518525e-05 -5.25426828e-04]\n",
            " [ 1.54067858e-02  3.43392604e-03 -1.47089326e-04 -8.94236604e-03\n",
            "  -1.41533972e-02  1.16558055e-03 -6.20895559e-04  4.63971808e-04\n",
            "  -3.49699524e-04 -3.11443319e-04  5.38206727e-04 -2.85516767e-02\n",
            "   4.41043524e-03  9.97151816e-01 -2.76368576e-03 -4.31575645e-02\n",
            "   2.73285032e-04 -1.44365922e-03  8.52500908e-03  4.15579179e-03\n",
            "  -3.00148148e-04  3.89503501e-04  4.32912879e-03  3.43750565e-04\n",
            "   7.48754734e-03 -5.71117171e-03  4.74481983e-02 -2.74758955e-05\n",
            "  -4.54334320e-05  4.84365372e-04]\n",
            " [ 3.34835312e-02  1.04404832e-02 -3.57427667e-04 -2.61631595e-02\n",
            "  -9.74853101e-02  3.32003436e-03 -1.78398927e-03  1.29084887e-03\n",
            "  -9.84335222e-04 -9.52903069e-04  1.57527835e-03 -1.57212503e-01\n",
            "   1.37004678e-02  3.40808257e-02 -8.31465354e-03  9.79298120e-01\n",
            "   8.06389839e-04 -4.20939385e-03  3.86268039e-02  3.25325602e-02\n",
            "  -8.66181776e-04  1.09644917e-03  1.31419696e-02  9.79027533e-04\n",
            "   5.80149195e-03 -1.69185298e-02  1.82913876e-02 -7.89786680e-05\n",
            "  -1.28670492e-04 -1.94851201e-03]\n",
            " [ 3.63278441e-03  1.13199009e-03 -2.39332336e-04 -3.41347934e-03\n",
            "  -6.11037557e-02  3.36523238e-04 -1.60860924e-04  2.17686503e-04\n",
            "  -1.48080040e-04 -1.74750898e-04  1.45331839e-04 -4.22403483e-02\n",
            "   1.77315931e-03  2.65732744e-03 -1.03128778e-03  1.95270122e-02\n",
            "   9.89282715e-05 -5.22405696e-04  7.48606681e-03 -9.96962788e-01\n",
            "  -5.11744918e-05  1.60304707e-04  1.62469438e-03  9.95166958e-05\n",
            "   4.90805749e-04 -2.17271873e-03  1.51284653e-03 -5.45373763e-06\n",
            "  -1.44394638e-05  7.87467319e-03]\n",
            " [ 1.29298558e-02  4.52590874e-03 -5.76993682e-04 -1.24104070e-02\n",
            "   9.69209122e-01  1.34751225e-03 -6.83257586e-04  7.07561008e-04\n",
            "  -5.02644501e-04 -5.72931580e-04  6.15546075e-04 -2.30342264e-01\n",
            "   6.63991579e-03  8.90389946e-03 -3.87284235e-03  5.82725770e-02\n",
            "   3.70062003e-04 -1.93520498e-03  3.17789384e-02 -4.79656441e-02\n",
            "  -2.73820915e-04  5.49788499e-04  6.13417215e-03  3.97953589e-04\n",
            "   1.68647304e-03 -7.99080493e-03  5.08111801e-03 -2.66280178e-05\n",
            "  -5.51363029e-05  1.58471430e-02]\n",
            " [ 4.57765420e-02  2.06960171e-02 -9.10108368e-04 -5.01966572e-02\n",
            "   1.72679706e-01  5.93335132e-03 -3.18439135e-03  2.41239661e-03\n",
            "  -1.83070459e-03 -2.08254398e-03  2.89273581e-03  8.44263904e-01\n",
            "   2.88427992e-02  2.57963528e-02 -1.65119819e-02  1.29246743e-01\n",
            "   1.55251708e-03 -7.97781739e-03  4.79687883e-01 -3.95237162e-02\n",
            "  -1.49939242e-03  2.02976892e-03  2.64577989e-02  1.74997079e-03\n",
            "   5.18391376e-03 -3.29824693e-02  1.49558502e-02 -1.37599981e-04\n",
            "  -2.31056535e-04  6.10954884e-03]\n",
            " [ 4.68009294e-02  2.35955997e-02 -7.09958912e-04 -5.54089010e-02\n",
            "   1.22939179e-01  6.58004572e-03 -3.56868195e-03  2.54556203e-03\n",
            "  -1.96211940e-03 -2.29526478e-03  3.26447842e-03  4.41909608e-01\n",
            "   3.29505781e-02  2.42927387e-02 -1.85595448e-02  1.12468621e-01\n",
            "   1.72852670e-03 -8.82299389e-03 -8.74967148e-01 -2.99579616e-02\n",
            "  -1.71614418e-03  2.18086325e-03  2.98955957e-02  1.94027588e-03\n",
            "   4.97962852e-03 -3.66794672e-02  1.41788897e-02 -1.56254961e-04\n",
            "  -2.53948249e-04 -3.15749709e-03]\n",
            " [ 4.08241307e-04  4.20857750e-03  9.88719893e-04 -7.50102944e-04\n",
            "   5.99194954e-04  4.61475793e-04 -3.59055138e-04 -2.15183511e-04\n",
            "   8.59688002e-05  9.99099931e-01  3.87194131e-04  7.49453889e-04\n",
            "   4.01018622e-02  1.37626958e-04 -1.24661616e-03  4.25679742e-04\n",
            "   7.71250566e-05 -2.73349440e-04 -1.75912856e-04 -2.47232999e-04\n",
            "  -2.84899214e-04 -7.32631542e-05  2.85110348e-03  1.34769077e-04\n",
            "   3.82062818e-05 -1.02955487e-03  7.01790922e-05 -2.22662374e-05\n",
            "  -1.11780996e-05 -1.26117756e-02]\n",
            " [ 1.37451088e-02  5.01620867e-02 -6.92958525e-04 -5.87056403e-02\n",
            "   9.81309296e-03  4.60428246e-03 -2.59534084e-03  1.81008160e-03\n",
            "  -1.45368446e-03  3.91971804e-02  2.90051682e-03  2.48678963e-02\n",
            "  -9.91231152e-01  4.22865610e-03 -3.32343333e-02  1.44500840e-02\n",
            "   2.00706285e-03 -8.63234603e-03 -1.02500469e-02 -2.62579516e-03\n",
            "  -1.16899189e-03  1.59455563e-03  7.23740102e-02  1.35764589e-03\n",
            "   9.47900626e-04 -4.73547817e-02  2.56490048e-03 -1.06359698e-04\n",
            "  -1.75356581e-04  6.96998652e-04]\n",
            " [-8.62590067e-03 -3.65153403e-01  8.37231153e-05  5.84875682e-02\n",
            "  -5.66957442e-03 -3.77704550e-03  2.21796597e-03 -1.29520330e-03\n",
            "   1.10357289e-03 -2.37725363e-03 -2.75736380e-03 -1.39728261e-02\n",
            "   3.90284288e-02 -2.50993759e-03  8.02183079e-02 -8.38356176e-03\n",
            "  -2.21506864e-03  8.19017375e-03  5.60696549e-03  1.55057660e-03\n",
            "   1.03234189e-03 -1.21403289e-03  9.22694251e-01 -1.11304930e-03\n",
            "  -5.69475628e-04  5.81089861e-02 -1.52270417e-03  9.20462153e-05\n",
            "   1.39813435e-04  4.08328412e-03]\n",
            " [ 1.29561260e-02 -9.10076485e-01 -9.90535564e-03 -1.06769653e-01\n",
            "   6.58050565e-03  2.89302420e-03 -8.16871249e-04  4.42274803e-03\n",
            "  -2.90562714e-03  7.40549529e-03  1.14003014e-03  2.07012433e-02\n",
            "  -5.12656254e-02  3.67191991e-03 -1.75868002e-01  1.25170549e-02\n",
            "   3.40459283e-03 -1.28716223e-02 -9.06440670e-03 -1.28342099e-03\n",
            "   6.64013195e-04  2.98906962e-03 -3.28858696e-01  8.63899434e-04\n",
            "   7.86611232e-04 -1.04728088e-01  2.31296286e-03  2.98842746e-05\n",
            "  -1.62248499e-04  8.00558504e-02]\n",
            " [-1.04665369e-02  1.16010800e-01  4.51153628e-03  9.82728018e-02\n",
            "  -5.90000836e-03 -3.77490111e-03  1.84655594e-03 -2.79996659e-03\n",
            "   2.02536633e-03 -3.57563846e-03 -2.50061488e-03 -1.62913521e-02\n",
            "   3.43991919e-02 -2.95249218e-03 -9.73354375e-01 -9.90299880e-03\n",
            "  -3.63977120e-03  1.22388519e-02  6.80475472e-03  1.40802996e-03\n",
            "   3.89633343e-04 -2.13117049e-03  1.15025182e-01 -1.11738956e-03\n",
            "  -6.52554700e-04  1.15399269e-01 -1.82744279e-03  4.75853220e-05\n",
            "   1.63455314e-04 -3.04551183e-02]\n",
            " [ 1.48208330e-02 -5.26247153e-02 -4.05946651e-03 -3.36560784e-01\n",
            "   8.34948551e-03  8.13533626e-03 -4.65390523e-03  3.95559205e-03\n",
            "  -3.20739035e-03  2.61140840e-03  7.75339433e-03  2.14263555e-02\n",
            "  -3.21273216e-02  4.03591542e-03  6.02154571e-02  1.32681364e-02\n",
            "   2.68637929e-02 -3.37988967e-02 -8.62632135e-03 -2.16945509e-03\n",
            "  -1.69801431e-03  3.41578844e-03 -6.10877265e-02  2.40107473e-03\n",
            "   9.11363604e-04  9.33931611e-01  2.47698493e-03 -1.60944830e-04\n",
            "  -3.15669939e-04  1.51957128e-02]\n",
            " [-7.34712749e-04  1.53685637e-03  8.03339163e-04  2.82332720e-02\n",
            "  -3.49269947e-04 -2.78036174e-04  1.06172540e-04 -3.33091145e-04\n",
            "   2.35906501e-04 -1.95384442e-04 -2.03224130e-04 -1.04392873e-03\n",
            "   1.45257111e-03 -1.95797392e-04 -2.29603954e-03 -6.50913953e-04\n",
            "   9.99421526e-01  2.14141601e-03  4.43219729e-04  7.34680936e-05\n",
            "  -2.64851858e-05 -2.41098093e-04  2.44458084e-03 -8.27228508e-05\n",
            "  -4.26792195e-05 -1.79238916e-02 -1.23047165e-04 -3.08344329e-07\n",
            "   1.39263685e-05 -3.80072580e-03]\n",
            " [ 7.00825855e-03 -1.96870465e-02  7.59864058e-03  2.52583740e-01\n",
            "   4.36910940e-03  7.87669165e-03 -5.70253339e-03  6.38924431e-04\n",
            "  -1.17282943e-03  1.73531253e-04  1.89799680e-02  9.42815501e-03\n",
            "  -1.13265737e-02  1.85961849e-03  1.51311645e-02  5.92665398e-03\n",
            "  -4.09341324e-03 -9.64734440e-01 -3.48324893e-03 -1.33887926e-03\n",
            "  -2.96689061e-03  1.38351338e-03 -1.88113654e-02  2.31366620e-03\n",
            "   4.40876738e-04  5.22680016e-02  1.11019679e-03 -2.44803511e-04\n",
            "  -2.49212794e-04 -2.99991425e-02]\n",
            " [-2.83798006e-02  6.46968402e-02 -3.76380987e-02 -4.62539180e-01\n",
            "  -1.69048086e-02 -3.76694457e-02  2.82849349e-02 -4.17585325e-03\n",
            "   6.64593113e-03 -9.23489453e-04 -8.41393327e-01 -3.70215717e-02\n",
            "   4.09183592e-02 -7.38494191e-03 -4.96721562e-02 -2.34545947e-02\n",
            "   1.03841587e-02 -1.54776750e-01  1.37407146e-02  5.11099729e-03\n",
            "   1.35832740e-02 -7.56808128e-03  6.39953538e-02 -1.10672734e-02\n",
            "  -1.74641432e-03 -1.52467728e-01 -4.42699049e-03  1.12272710e-03\n",
            "   1.19109260e-03  1.04942373e-01]\n",
            " [-5.09037894e-02  9.58225025e-02 -1.79359498e-02 -7.40599420e-01\n",
            "  -2.79078452e-02 -6.18568828e-02  4.43786310e-02 -1.63567688e-02\n",
            "   1.79289834e-02 -3.72713743e-03  5.36722255e-01 -6.57819373e-02\n",
            "   7.05793698e-02 -1.30838065e-02 -8.19154757e-02 -4.18286942e-02\n",
            "   1.62558329e-02 -2.08032344e-01  2.52553959e-02  7.88656882e-03\n",
            "   1.81357280e-02 -1.90840556e-02  1.05600224e-01 -1.82054191e-02\n",
            "  -3.03578309e-03 -2.55918260e-01 -7.95205300e-03  1.55631806e-03\n",
            "   2.09433481e-03  6.51046613e-02]\n",
            " [ 3.49552553e-03  2.74005227e-02 -9.31696547e-01  8.13156176e-02\n",
            "  -3.88483923e-03 -4.09514753e-02  5.53347998e-02  3.73510951e-02\n",
            "  -2.78074622e-02  5.30349136e-03  4.00003787e-02  4.30795605e-03\n",
            "  -3.06788134e-03  6.32027888e-04 -7.30903733e-04  2.92930978e-03\n",
            "   8.86346649e-05  4.20206660e-03 -3.93577733e-03  2.68545918e-03\n",
            "   3.25063455e-02  2.35951049e-02  3.10830929e-03 -1.18748910e-02\n",
            "  -1.74110040e-05  2.14457383e-02  6.75303475e-04  2.37904266e-03\n",
            "   5.66008954e-04  3.37205369e-01]\n",
            " [ 6.80738434e-03  6.95904877e-03  1.42420356e-01  6.04911210e-02\n",
            "   2.99314103e-04 -3.61068325e-02  9.48576185e-01  5.23667506e-02\n",
            "  -1.71320382e-01  2.92174214e-03  8.80759842e-03  8.03088277e-03\n",
            "  -6.56651216e-03  1.52280941e-03  4.65493900e-03  5.30254180e-03\n",
            "  -7.13049854e-04  7.18068226e-03 -4.29313866e-03  7.84375531e-04\n",
            "   3.68422062e-02  7.58297822e-02 -5.34534143e-03 -1.03469511e-02\n",
            "   2.63885092e-04  2.27336568e-02  1.08947179e-03  2.48719066e-03\n",
            "   4.79009643e-05  1.86238099e-01]\n",
            " [-3.50916313e-03  1.00249988e-02  4.87063701e-02 -1.23234749e-02\n",
            "  -2.91904369e-03 -5.41538671e-02 -2.02515788e-01  1.51052593e-02\n",
            "  -9.72520403e-01  7.41225028e-04  6.94214932e-03 -4.12101427e-03\n",
            "   3.81765845e-03 -9.01515849e-04 -4.44484905e-03 -2.64598667e-03\n",
            "   6.56350512e-04 -4.23050616e-03  1.10396550e-03  1.14877372e-03\n",
            "   2.56074624e-02  1.75772314e-02  6.46880210e-03 -1.57678466e-02\n",
            "  -2.44559603e-04 -7.99399313e-03 -4.89410590e-04  1.81285799e-03\n",
            "   9.37532507e-04  7.70248037e-02]\n",
            " [ 2.11745144e-03 -1.25083631e-02 -7.32936683e-02 -1.37537887e-03\n",
            "   3.12403251e-03  1.01080710e-01  1.11866175e-01 -4.13365539e-02\n",
            "  -6.34930993e-02 -1.53119237e-03 -9.18356262e-03  2.47191157e-03\n",
            "  -2.49877233e-03  6.01054122e-04  3.63335456e-03  1.55059926e-03\n",
            "  -5.26033543e-04  2.75119373e-03 -1.17610482e-04 -1.45952359e-03\n",
            "  -5.18805677e-02 -9.71896520e-01 -5.65159829e-03  2.93003359e-02\n",
            "   2.01273746e-04  3.01888195e-03  2.59107550e-04 -3.48838702e-03\n",
            "  -1.29918907e-03 -1.32932493e-01]\n",
            " [ 9.88016460e-03  2.43569237e-02  2.18549356e-01  9.49670677e-02\n",
            "  -2.78829235e-03 -6.35493228e-01 -1.49935239e-01  3.19230060e-01\n",
            "   1.26105234e-01  6.50170408e-03  2.16230754e-02  1.13992871e-02\n",
            "  -8.42200745e-03  2.04163233e-03  3.87589903e-03  7.65412120e-03\n",
            "  -5.92187802e-04  8.10070951e-03 -7.35049438e-03  2.91936253e-03\n",
            "   3.07373796e-01 -2.08911535e-01 -2.98662127e-03 -1.80859158e-01\n",
            "   2.51057834e-04  3.32868083e-02  1.64347792e-03  1.77443902e-02\n",
            "   2.40956975e-03  4.74537794e-01]\n",
            " [ 4.39927368e-05  1.72370267e-04  1.26428265e-03  4.90733854e-04\n",
            "  -2.66561005e-05  2.80200487e-01 -8.03487439e-04  3.28252681e-03\n",
            "   5.71449994e-04  3.95925544e-05  1.40071868e-04  5.04656616e-05\n",
            "  -3.45511586e-05  8.44016147e-06  6.74937037e-06  3.43315113e-05\n",
            "  -1.15887185e-06  3.16545781e-05 -3.81782577e-05  2.09619470e-05\n",
            "   4.13077462e-03 -8.00848031e-04  5.35342803e-06 -9.59920367e-01\n",
            "   5.46340852e-07  1.60619827e-04  7.66176859e-06  1.92149874e-04\n",
            "   3.06694445e-05  3.02653604e-03]\n",
            " [ 4.89950923e-03 -1.56907657e-02 -5.71235230e-02  1.10720887e-02\n",
            "   4.61999017e-03 -5.71201651e-01  5.02212252e-02 -2.08463081e-01\n",
            "  -1.40378781e-02 -1.45788473e-03 -9.76067368e-03  5.60909521e-03\n",
            "  -5.07541289e-03  1.26691270e-03  6.06976194e-03  3.60348937e-03\n",
            "  -8.59409078e-04  5.03505172e-03 -1.24535957e-03 -1.92657152e-03\n",
            "  -7.55859998e-01  1.65154687e-02 -9.08090380e-03 -1.71307483e-01\n",
            "   3.62206937e-04  9.14566931e-03  6.56679192e-04 -2.01773167e-02\n",
            "  -6.44734756e-03 -1.48590821e-01]\n",
            " [-7.44710530e-03  1.55264118e-02  3.98436581e-02 -2.61617705e-02\n",
            "  -5.22949470e-03  2.65774910e-01 -4.06583999e-02  8.19243918e-01\n",
            "   4.51531548e-03  8.43704014e-04  8.72095187e-03 -8.49019623e-03\n",
            "   7.34101655e-03 -1.84421254e-03 -7.86303242e-03 -5.50919875e-03\n",
            "   1.11228257e-03 -7.09171500e-03  2.58126219e-03  1.92605656e-03\n",
            "  -4.76450195e-01 -3.54300360e-03  1.13885546e-02  7.87808698e-02\n",
            "  -4.78962608e-04 -1.55955761e-02 -1.04130948e-03  8.47419708e-02\n",
            "   1.42452136e-02  1.12211508e-01]\n",
            " [ 8.18181011e-04 -8.90382914e-04 -1.18822846e-04  3.83812172e-03\n",
            "   3.94725355e-04 -1.26164623e-02  1.71054751e-03 -9.24346359e-02\n",
            "   8.86568037e-04  4.42055989e-05 -3.81896304e-04  9.31633652e-04\n",
            "  -7.74707537e-04  1.94695225e-04  7.36330040e-04  6.09748873e-04\n",
            "  -1.04597674e-04  7.37310781e-04 -3.53934943e-04 -1.10784772e-04\n",
            "   9.69719909e-03 -1.29248939e-03 -1.02095499e-03 -3.75809367e-03\n",
            "   4.54475001e-05  1.90191216e-03  1.18952405e-04  9.95568324e-01\n",
            "  -1.38384374e-03 -7.87438418e-04]\n",
            " [ 5.26523411e-04 -2.13140566e-04  1.70357167e-03  2.85546004e-03\n",
            "   1.74320230e-04 -1.74013247e-03 -5.37018948e-05 -1.89576147e-02\n",
            "   1.06941105e-03  8.81535047e-05  5.28822432e-06  5.97695972e-04\n",
            "  -4.81696864e-04  1.21628474e-04  4.14442790e-04  3.93679157e-04\n",
            "  -5.89405977e-05  4.49664690e-04 -2.58154516e-04 -2.67546115e-05\n",
            "  -2.84972298e-03 -1.39262659e-03 -5.51761348e-04 -5.32847800e-04\n",
            "   2.60476550e-05  1.29355825e-03  7.84540601e-05 -3.82249301e-04\n",
            "   9.99795100e-01  4.59318643e-03]\n",
            " [ 2.82646546e-07 -4.93255059e-02 -2.22169579e-01 -5.79896664e-02\n",
            "   1.13066036e-02 -3.14447223e-01  1.18656396e-01  4.10039667e-01\n",
            "  -5.93448138e-02 -8.41933798e-03 -3.26296563e-02  1.26309035e-05\n",
            "  -1.82495240e-03  4.93734114e-04  7.55015265e-03 -3.13374043e-04\n",
            "  -1.01300589e-03  2.14200410e-03  4.44577897e-03 -6.34862598e-03\n",
            "   3.17450888e-01  6.63390499e-02 -1.37955899e-02 -9.18662421e-02\n",
            "   4.53045865e-04 -1.17972027e-02 -2.92563563e-04  3.01525636e-02\n",
            "   1.21815693e-02 -7.37456212e-01]]\n"
          ]
        }
      ],
      "source": [
        "# Principal axes in feature space, representing the directions of maximum variance in the data.\n",
        "print(pca.components_)"
      ]
    },
    {
      "cell_type": "code",
      "execution_count": null,
      "metadata": {
        "colab": {
          "base_uri": "https://localhost:8080/"
        },
        "id": "YlUN5BYM5D7n",
        "outputId": "83446688-e2bb-43a8-a347-14967ddb2686"
      },
      "outputs": [
        {
          "output_type": "stream",
          "name": "stdout",
          "text": [
            "(30, 30)\n"
          ]
        }
      ],
      "source": [
        "# check the shape \n",
        "print(pca.components_.shape)"
      ]
    },
    {
      "cell_type": "code",
      "execution_count": null,
      "metadata": {
        "colab": {
          "base_uri": "https://localhost:8080/"
        },
        "id": "66qEBTmC5GWE",
        "outputId": "244600ca-fe61-40f9-d107-32e2c693fc49"
      },
      "outputs": [
        {
          "output_type": "stream",
          "name": "stdout",
          "text": [
            "<class 'numpy.ndarray'>\n"
          ]
        }
      ],
      "source": [
        "# check the type \n",
        "print(type(pca.components_))"
      ]
    },
    {
      "cell_type": "code",
      "execution_count": null,
      "metadata": {
        "colab": {
          "base_uri": "https://localhost:8080/"
        },
        "id": "B-AMjT2L5H1Z",
        "outputId": "49408808-03a2-4ae4-f424-5d93feaeb510"
      },
      "outputs": [
        {
          "output_type": "stream",
          "name": "stdout",
          "text": [
            "[7.62983021e-02 6.65884235e-03 6.19656288e-03 5.91375506e-03\n",
            " 4.56419327e-03 4.03952454e-03 3.91611685e-03 3.46016054e-03\n",
            " 3.24660531e-03 1.43248413e-03 1.40043786e-03 1.13346638e-03\n",
            " 1.09848502e-03 1.02978473e-03 8.26218983e-04 7.76464205e-04\n",
            " 6.12685365e-04 5.16676348e-04 4.86827772e-04 3.36402576e-04\n",
            " 1.83284563e-04 1.64687389e-04 1.41559093e-04 1.05564044e-04\n",
            " 8.60289969e-05 7.34542550e-05 5.91968982e-05 5.54942163e-05\n",
            " 4.48625742e-05 4.36952130e-06]\n"
          ]
        }
      ],
      "source": [
        "# Percentage of variance explained by each of the selected components\n",
        "print(pca.explained_variance_)"
      ]
    },
    {
      "cell_type": "code",
      "execution_count": null,
      "metadata": {
        "colab": {
          "base_uri": "https://localhost:8080/"
        },
        "id": "KSOyvVAk5Jgc",
        "outputId": "029da7d8-9e18-4462-ffc7-e7d3bd5e3276"
      },
      "outputs": [
        {
          "output_type": "stream",
          "name": "stdout",
          "text": [
            "30\n"
          ]
        }
      ],
      "source": [
        "print(len(pca.explained_variance_))"
      ]
    },
    {
      "cell_type": "code",
      "execution_count": null,
      "metadata": {
        "colab": {
          "base_uri": "https://localhost:8080/"
        },
        "id": "eUHDZv-t5K7r",
        "outputId": "ce3b18c7-8729-4f67-c178-2965b2196a5f"
      },
      "outputs": [
        {
          "output_type": "stream",
          "name": "stdout",
          "text": [
            "[147.4117167   43.54857352  42.0097404   41.03989429  36.05425951\n",
            "  33.91873859  33.39661025  31.39226789  30.40810207  20.19851668\n",
            "  19.97130707  17.96713742  17.68771111  17.12567868  15.33988669\n",
            "  14.87083267  13.20971112  12.130644    11.7750359    9.7882313\n",
            "   7.22499434   6.84864632   6.3495574    5.48318094   4.94990651\n",
            "   4.57386189   4.10604819   3.97556106   3.5745112    1.11555631]\n"
          ]
        }
      ],
      "source": [
        "print(pca.singular_values_)"
      ]
    },
    {
      "cell_type": "code",
      "execution_count": null,
      "metadata": {
        "colab": {
          "base_uri": "https://localhost:8080/"
        },
        "id": "q-HSC8-_5MdT",
        "outputId": "3152e7fa-dcf7-4b8a-bdce-1a0a2ec90f5d"
      },
      "outputs": [
        {
          "output_type": "stream",
          "name": "stdout",
          "text": [
            "[0.54871672 0.95829378 0.76725837 0.83741363 0.2519302  0.7657163\n",
            " 0.26301976 0.26535552 0.78538548 0.46277991 0.50872198 0.28528563\n",
            " 0.70419265 0.4483309  0.64605314 0.33632729 0.44935188 0.73112974\n",
            " 0.65329207 0.56331483 0.58026532 0.5614795  0.510031   0.66543361\n",
            " 0.38223415 0.57790656 0.42544834 0.41651095 0.31312386 0.00343891]\n"
          ]
        }
      ],
      "source": [
        "print(pca.mean_)"
      ]
    },
    {
      "cell_type": "code",
      "execution_count": null,
      "metadata": {
        "colab": {
          "base_uri": "https://localhost:8080/"
        },
        "id": "J1TdRCv55OZR",
        "outputId": "426f4036-244a-4574-9146-e00dfc5cd1ff"
      },
      "outputs": [
        {
          "output_type": "stream",
          "name": "stdout",
          "text": [
            "0.0\n"
          ]
        }
      ],
      "source": [
        "print(pca.noise_variance_)"
      ]
    },
    {
      "cell_type": "code",
      "execution_count": null,
      "metadata": {
        "colab": {
          "base_uri": "https://localhost:8080/"
        },
        "id": "_JEh_Nv-5REw",
        "outputId": "20c76d35-29da-4c71-831e-895f95e2968c"
      },
      "outputs": [
        {
          "output_type": "stream",
          "name": "stdout",
          "text": [
            "<class 'numpy.ndarray'>\n",
            "(284807, 30)\n"
          ]
        }
      ],
      "source": [
        "principal_components = pca.fit_transform(dataset_scaled)\n",
        "\n",
        "print(type(principal_components))\n",
        "print(principal_components.shape)\n",
        "\n",
        "principal_components_df = pd.DataFrame(principal_components)"
      ]
    },
    {
      "cell_type": "code",
      "execution_count": null,
      "metadata": {
        "colab": {
          "base_uri": "https://localhost:8080/",
          "height": 286
        },
        "id": "exncanAB5TE-",
        "outputId": "27d9b815-82db-4ca8-8e4a-fc5b1cebac2c"
      },
      "outputs": [
        {
          "output_type": "execute_result",
          "data": {
            "text/plain": [
              "<matplotlib.axes._subplots.AxesSubplot at 0x7fec38515e50>"
            ]
          },
          "metadata": {},
          "execution_count": 33
        },
        {
          "output_type": "display_data",
          "data": {
            "image/png": "[encoded data removed]",
            "text/plain": [
              "<Figure size 432x288 with 2 Axes>"
            ]
          },
          "metadata": {
            "needs_background": "light"
          }
        }
      ],
      "source": [
        "import seaborn as sns\n",
        "\n",
        "sns.heatmap(principal_components_df.corr())"
      ]
    },
    {
      "cell_type": "markdown",
      "metadata": {
        "id": "0E5FMIyH5XP2"
      },
      "source": [
        "###Choosing the Number of Principal Components"
      ]
    },
    {
      "cell_type": "code",
      "execution_count": null,
      "metadata": {
        "colab": {
          "base_uri": "https://localhost:8080/",
          "height": 279
        },
        "id": "6pz-J98U5U-w",
        "outputId": "aa7650ec-27bd-4c00-aa29-f2c27a71efe8"
      },
      "outputs": [
        {
          "output_type": "display_data",
          "data": {
            "image/png": "[encoded data removed]",
            "text/plain": [
              "<Figure size 432x288 with 1 Axes>"
            ]
          },
          "metadata": {
            "needs_background": "light"
          }
        }
      ],
      "source": [
        "import matplotlib.pyplot as plt\n",
        "\n",
        "plt.plot(np.cumsum(pca.explained_variance_ratio_))\n",
        "plt.xlabel('number of components')\n",
        "plt.ylabel('cumulative explained variance');"
      ]
    },
    {
      "cell_type": "markdown",
      "metadata": {
        "id": "yewO9Zvn5ctg"
      },
      "source": [
        "###PCA for Dimensionality Reduction"
      ]
    },
    {
      "cell_type": "code",
      "execution_count": null,
      "metadata": {
        "id": "RlgbsG5I5ZNg"
      },
      "outputs": [],
      "source": [
        "pca_low_dim = PCA(n_components = 3)"
      ]
    },
    {
      "cell_type": "code",
      "execution_count": null,
      "metadata": {
        "colab": {
          "base_uri": "https://localhost:8080/"
        },
        "id": "l4dU6Jb15fBl",
        "outputId": "1472f770-d8f5-468b-d015-e96918ab4fb7"
      },
      "outputs": [
        {
          "output_type": "execute_result",
          "data": {
            "text/plain": [
              "PCA(n_components=3)"
            ]
          },
          "metadata": {},
          "execution_count": 36
        }
      ],
      "source": [
        "pca_low_dim.fit(dataset_scaled)"
      ]
    },
    {
      "cell_type": "code",
      "execution_count": null,
      "metadata": {
        "colab": {
          "base_uri": "https://localhost:8080/"
        },
        "id": "ZfOtpvkl5gRC",
        "outputId": "6dc7d1bb-9e53-4c11-b5a3-d3ba163d2c60"
      },
      "outputs": [
        {
          "output_type": "stream",
          "name": "stdout",
          "text": [
            "(284807, 30)\n",
            "(284807, 3)\n"
          ]
        }
      ],
      "source": [
        "# original components\n",
        "print(dataset_scaled.shape)\n",
        "\n",
        "# transformed components\n",
        "print(pca_low_dim.transform(dataset_scaled).shape)"
      ]
    },
    {
      "cell_type": "code",
      "execution_count": null,
      "metadata": {
        "colab": {
          "base_uri": "https://localhost:8080/"
        },
        "id": "C7ONyD2z5h6x",
        "outputId": "3ffbd57a-6a1d-42a9-d64a-553e5ea0687d"
      },
      "outputs": [
        {
          "output_type": "stream",
          "name": "stdout",
          "text": [
            "[0.0762983  0.00665884 0.00619656]\n"
          ]
        }
      ],
      "source": [
        "print(pca_low_dim.explained_variance_)"
      ]
    },
    {
      "cell_type": "code",
      "execution_count": null,
      "metadata": {
        "colab": {
          "base_uri": "https://localhost:8080/"
        },
        "id": "UlFQs-mP5j7t",
        "outputId": "e768c87c-f56f-4cce-d835-7241f2d00e6c"
      },
      "outputs": [
        {
          "output_type": "stream",
          "name": "stdout",
          "text": [
            "0.08915370655028877\n"
          ]
        }
      ],
      "source": [
        "print(pca_low_dim.explained_variance_.sum())"
      ]
    }
  ],
  "metadata": {
    "colab": {
      "name": "Credit_Card_Fraud_Project.ipynb",
      "provenance": [],
      "authorship_tag": "ABX9TyNutsU33UCR2/PdE89xmfnu",
      "include_colab_link": true
    },
    "kernelspec": {
      "display_name": "Python 3",
      "name": "python3"
    },
    "language_info": {
      "name": "python"
    }
  },
  "nbformat": 4,
  "nbformat_minor": 0
}